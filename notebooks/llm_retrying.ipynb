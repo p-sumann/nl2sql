{
 "cells": [
  {
   "cell_type": "markdown",
   "metadata": {},
   "source": [
    "In this notebook, I have explored the retrying mechanisms for the LLMs if it generates the wrong query."
   ]
  },
  {
   "cell_type": "code",
   "execution_count": null,
   "metadata": {},
   "outputs": [],
   "source": [
    "import json\n",
    "import re\n",
    "from llm import GenerativeModelWrapper\n",
    "from src.config import config\n",
    "from src.db.database import create_db_connection\n",
    "from sqlalchemy import create_engine\n",
    "from sqlalchemy.orm import sessionmaker"
   ]
  },
  {
   "cell_type": "code",
   "execution_count": null,
   "metadata": {},
   "outputs": [],
   "source": [
    "user_query = (\n",
    "    \"calculate the month-over-month percent change in the number of flights for 2015\"\n",
    ")\n",
    "error_message = '500: Error executing query: (psycopg2.errors.UndefinedObject) type \"double\" does not exist\\nLINE 1: ...hts ) SELECT  flight_month,  (CAST(num_flights AS DOUBLE) - ...\\n                                                             ^\\n\\n[SQL: WITH MonthlyFlights AS (  SELECT  CAST(flights.month AS INT) AS flight_month,  COUNT(*) AS num_flights  FROM flights  WHERE  flights.year = 2015  GROUP BY  flights.month ), LaggedFlights AS (  SELECT  flight_month,  num_flights,  LAG(num_flights, 1, 0) OVER (ORDER BY flight_month) AS previous_month_flights  FROM MonthlyFlights ) SELECT  flight_month,  (CAST(num_flights AS DOUBLE) - CAST(previous_month_flights AS DOUBLE)) / CAST(previous_month_flights AS DOUBLE) AS month_over_month_change FROM LaggedFlights]\\n(Background on this error at: https://sqlalche.me/e/20/f405)'\n",
    "generated_sql = \"SQL: WITH MonthlyFlights AS (  SELECT  CAST(flights.month AS INT) AS flight_month,  COUNT(*) AS num_flights  FROM flights  WHERE  flights.year = 2015  GROUP BY  flights.month ), LaggedFlights AS (  SELECT  flight_month,  num_flights,  LAG(num_flights, 1, 0) OVER (ORDER BY flight_month) AS previous_month_flights  FROM MonthlyFlights ) SELECT  flight_month,  (CAST(num_flights AS DOUBLE) - CAST(previous_month_flights AS DOUBLE)) / CAST(previous_month_flights AS DOUBLE) AS month_over_month_change FROM LaggedFlights\""
   ]
  },
  {
   "cell_type": "code",
   "execution_count": null,
   "metadata": {},
   "outputs": [],
   "source": [
    "sql_correction_prompt = \"\"\"\n",
    "### TASK ###\n",
    "You are an ANSI SQL expert with exceptional logical thinking skills and debugging skills.\n",
    "\n",
    "Now you are given syntactically incorrect ANSI SQL query and related error message, please generate the syntactically correct ANSI SQL query without changing original semantics.\n",
    "\n",
    "### QUESTION ###\n",
    "SQL query asked by user: {user_query}\n",
    "GENERATED SQL: {generated_sql}\n",
    "ERROR Message: {error_message}\n",
    "\n",
    "### FINAL ANSWER FORMAT ###\n",
    "The final answer must be a corrected SQL query in JSON format:\n",
    "\n",
    "{{\n",
    "    \"sql\": <CORRECTED_SQL_QUERY_STRING>\n",
    "}}\n",
    "\"\"\"\n"
   ]
  },
  {
   "cell_type": "code",
   "execution_count": null,
   "metadata": {},
   "outputs": [],
   "source": [
    "prompt = sql_correction_prompt.format(\n",
    "    user_query=user_query, error_message=error_message, generated_sql=generated_sql\n",
    ")"
   ]
  },
  {
   "cell_type": "code",
   "execution_count": null,
   "metadata": {},
   "outputs": [],
   "source": [
    "llm = GenerativeModelWrapper()"
   ]
  },
  {
   "cell_type": "code",
   "execution_count": null,
   "metadata": {},
   "outputs": [],
   "source": [
    "res = await llm.generate_sql(prompt=prompt)\n",
    "res"
   ]
  },
  {
   "cell_type": "code",
   "execution_count": null,
   "metadata": {},
   "outputs": [],
   "source": [
    "def clean_generation_result(result: str) -> str:\n",
    "    def _normalize_whitespace(s: str) -> str:\n",
    "        return re.sub(r\"\\s+\", \" \", s).strip()\n",
    "\n",
    "    return (\n",
    "        _normalize_whitespace(result)\n",
    "        .replace(\"\\\\n\", \" \")\n",
    "        .replace(\"```sql\", \"\")\n",
    "        .replace(\"```json\", \"\")\n",
    "        .replace('\"\"\"', \"\")\n",
    "        .replace(\"'''\", \"\")\n",
    "        .replace(\"```\", \"\")\n",
    "        .replace(\";\", \"\")\n",
    "    )"
   ]
  },
  {
   "cell_type": "code",
   "execution_count": null,
   "metadata": {},
   "outputs": [],
   "source": [
    "sql_query = json.loads(clean_generation_result(res))\n",
    "print(sql_query)"
   ]
  },
  {
   "cell_type": "code",
   "execution_count": null,
   "metadata": {},
   "outputs": [],
   "source": [
    "sql = sql_query.get(\"sql\", \"\")\n",
    "sql"
   ]
  },
  {
   "cell_type": "code",
   "execution_count": null,
   "metadata": {},
   "outputs": [],
   "source": [
    "from typing import Dict\n",
    "import pandas as pd\n",
    "from sqlalchemy import engine\n",
    "import os\n",
    "from sqlalchemy import create_engine\n",
    "from sqlalchemy.orm import sessionmaker\n",
    "\n",
    "\n",
    "def parse_nan_values(dataframe: pd.DataFrame) -> pd.DataFrame:\n",
    "    return dataframe.fillna(\"\")\n",
    "\n",
    "\n",
    "# Environment variables\n",
    "GOOGLE_API_KEY = os.getenv(\"GOOGLE_API_KEY\")\n",
    "PASS = os.getenv(\"PASS\")\n",
    "DATABASE = os.getenv(\"DATABASE\")\n",
    "USER = os.getenv(\"USER\")\n",
    "HOST = os.getenv(\"HOST\")\n",
    "DATABASE_CLIENT = os.getenv(\"DATABASE_CLIENT\")\n",
    "PORT = os.getenv(\"PORT\")\n",
    "\n",
    "\n",
    "# Database connection\n",
    "def create_db_connection(password):\n",
    "    DATABASE_URL = f\"{DATABASE_CLIENT}://{USER}:{password}@{HOST}:{PORT}/{DATABASE}\"\n",
    "    engine = create_engine(DATABASE_URL)\n",
    "    Session = sessionmaker(bind=engine)\n",
    "    return engine, Session()\n"
   ]
  },
  {
   "cell_type": "code",
   "execution_count": null,
   "metadata": {},
   "outputs": [],
   "source": [
    "engine, session = create_db_connection(PASS)\n",
    "\n",
    "\n",
    "# from fastapi import HTTPException\n",
    "def execute_query(query: str) -> Dict:\n",
    "    try:\n",
    "        df_result = pd.read_sql_query(query, engine)\n",
    "        df_result = parse_nan_values(df_result)\n",
    "        return df_result.to_dict(orient=\"records\")\n",
    "    except Exception as e:\n",
    "        raise e"
   ]
  },
  {
   "cell_type": "code",
   "execution_count": null,
   "metadata": {},
   "outputs": [],
   "source": [
    "retry = 0\n",
    "while retry < 3:\n",
    "    try:\n",
    "        res = execute_query(sql)\n",
    "    except Exception as e:\n",
    "        res = await llm.generate_sql(prompt=prompt)\n",
    "        sql_query = json.loads(clean_generation_result(res))\n",
    "        sql = sql_query.get(\"sql\", \"\")\n",
    "        res = execute_query(sql)\n",
    "        retry += 1\n",
    "        print(\"Exception Occured:\", e)\n"
   ]
  },
  {
   "cell_type": "code",
   "execution_count": null,
   "metadata": {},
   "outputs": [],
   "source": [
    "res = await execute_with_retries(\n",
    "    user_query=user_query,\n",
    "    initial_generated_sql=sql_query,\n",
    "    initial_error_message=error_message,\n",
    "    engine=engine,\n",
    ")\n"
   ]
  }
 ],
 "metadata": {
  "kernelspec": {
   "display_name": "documentai",
   "language": "python",
   "name": "python3"
  },
  "language_info": {
   "codemirror_mode": {
    "name": "ipython",
    "version": 3
   },
   "file_extension": ".py",
   "mimetype": "text/x-python",
   "name": "python",
   "nbconvert_exporter": "python",
   "pygments_lexer": "ipython3",
   "version": "3.12.3"
  }
 },
 "nbformat": 4,
 "nbformat_minor": 2
}
