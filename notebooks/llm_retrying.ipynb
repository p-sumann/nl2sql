{
 "cells": [
  {
   "cell_type": "code",
   "execution_count": null,
   "metadata": {},
   "outputs": [],
   "source": [
    "import json\n",
    "import re\n",
    "from llm import GenerativeModelWrapper\n",
    "from src.config import config\n",
    "from src.db.database import create_db_connection\n",
    "from sqlalchemy import create_engine\n",
    "from sqlalchemy.orm import sessionmaker"
   ]
  },
  {
   "cell_type": "code",
   "execution_count": null,
   "metadata": {},
   "outputs": [],
   "source": [
    "user_query = \"calculate the month-over-month percent change in the number of flights for 2015\"\n",
    "error_message = '500: Error executing query: (psycopg2.errors.UndefinedObject) type \"double\" does not exist\\nLINE 1: ...hts ) SELECT  flight_month,  (CAST(num_flights AS DOUBLE) - ...\\n                                                             ^\\n\\n[SQL: WITH MonthlyFlights AS (  SELECT  CAST(flights.month AS INT) AS flight_month,  COUNT(*) AS num_flights  FROM flights  WHERE  flights.year = 2015  GROUP BY  flights.month ), LaggedFlights AS (  SELECT  flight_month,  num_flights,  LAG(num_flights, 1, 0) OVER (ORDER BY flight_month) AS previous_month_flights  FROM MonthlyFlights ) SELECT  flight_month,  (CAST(num_flights AS DOUBLE) - CAST(previous_month_flights AS DOUBLE)) / CAST(previous_month_flights AS DOUBLE) AS month_over_month_change FROM LaggedFlights]\\n(Background on this error at: https://sqlalche.me/e/20/f405)'\n",
    "generated_sql = \"SQL: WITH MonthlyFlights AS (  SELECT  CAST(flights.month AS INT) AS flight_month,  COUNT(*) AS num_flights  FROM flights  WHERE  flights.year = 2015  GROUP BY  flights.month ), LaggedFlights AS (  SELECT  flight_month,  num_flights,  LAG(num_flights, 1, 0) OVER (ORDER BY flight_month) AS previous_month_flights  FROM MonthlyFlights ) SELECT  flight_month,  (CAST(num_flights AS DOUBLE) - CAST(previous_month_flights AS DOUBLE)) / CAST(previous_month_flights AS DOUBLE) AS month_over_month_change FROM LaggedFlights\""
   ]
  },
  {
   "cell_type": "code",
   "execution_count": null,
   "metadata": {},
   "outputs": [],
   "source": [
    "sql_correction_prompt = \"\"\"\n",
    "### TASK ###\n",
    "You are an ANSI SQL expert with exceptional logical thinking skills and debugging skills.\n",
    "\n",
    "Now you are given syntactically incorrect ANSI SQL query and related error message, please generate the syntactically correct ANSI SQL query without changing original semantics.\n",
    "\n",
    "### QUESTION ###\n",
    "SQL query asked by user: {user_query}\n",
    "GENERATED SQL: {generated_sql}\n",
    "ERROR Message: {error_message}\n",
    "\n",
    "### FINAL ANSWER FORMAT ###\n",
    "The final answer must be a corrected SQL query in JSON format:\n",
    "\n",
    "{{\n",
    "    \"sql\": <CORRECTED_SQL_QUERY_STRING>\n",
    "}}\n",
    "\"\"\"\n"
   ]
  },
  {
   "cell_type": "code",
   "execution_count": null,
   "metadata": {},
   "outputs": [],
   "source": [
    "prompt = sql_correction_prompt.format(\n",
    "    user_query=user_query,\n",
    "    error_message=error_message,\n",
    "    generated_sql=generated_sql\n",
    ")"
   ]
  },
  {
   "cell_type": "code",
   "execution_count": null,
   "metadata": {},
   "outputs": [],
   "source": [
    "llm = GenerativeModelWrapper()"
   ]
  },
  {
   "cell_type": "code",
   "execution_count": null,
   "metadata": {},
   "outputs": [],
   "source": [
    "res = await llm.generate_sql(prompt=prompt)\n"
   ]
  },
  {
   "cell_type": "code",
   "execution_count": null,
   "metadata": {},
   "outputs": [],
   "source": [
    "res"
   ]
  },
  {
   "cell_type": "code",
   "execution_count": null,
   "metadata": {},
   "outputs": [],
   "source": [
    "def clean_generation_result(result: str) -> str:\n",
    "    def _normalize_whitespace(s: str) -> str:\n",
    "        return re.sub(r\"\\s+\", \" \", s).strip()\n",
    "\n",
    "    return (\n",
    "        _normalize_whitespace(result)\n",
    "        .replace(\"\\\\n\", \" \")\n",
    "        .replace(\"```sql\", \"\")\n",
    "        .replace(\"```json\", \"\")\n",
    "        .replace('\"\"\"', \"\")\n",
    "        .replace(\"'''\", \"\")\n",
    "        .replace(\"```\", \"\")\n",
    "        .replace(\";\", \"\")\n",
    "    )"
   ]
  },
  {
   "cell_type": "code",
   "execution_count": null,
   "metadata": {},
   "outputs": [],
   "source": [
    "sql_query = json.loads(clean_generation_result(res))\n",
    "print(sql_query)\n"
   ]
  },
  {
   "cell_type": "code",
   "execution_count": null,
   "metadata": {},
   "outputs": [],
   "source": [
    "sql = sql_query.get(\"sql\", \"\")\n",
    "sql"
   ]
  },
  {
   "cell_type": "code",
   "execution_count": null,
   "metadata": {},
   "outputs": [],
   "source": [
    "from typing import Dict\n",
    "import pandas as pd\n",
    "from sqlalchemy import engine\n",
    "import os\n",
    "from sqlalchemy import create_engine\n",
    "from sqlalchemy.orm import sessionmaker\n",
    "\n",
    "def parse_nan_values(dataframe: pd.DataFrame) -> pd.DataFrame:\n",
    "    return dataframe.fillna(\"\")\n",
    "\n",
    "# Environment variables\n",
    "GOOGLE_API_KEY = os.getenv(\"GOOGLE_API_KEY\")\n",
    "PASS = os.getenv(\"PASS\")\n",
    "DATABASE = os.getenv(\"DATABASE\")\n",
    "USER = os.getenv(\"USER\")\n",
    "HOST = os.getenv(\"HOST\")\n",
    "DATABASE_CLIENT = os.getenv(\"DATABASE_CLIENT\")\n",
    "PORT = os.getenv(\"PORT\")\n",
    "\n",
    "# Database connection\n",
    "def create_db_connection(password):\n",
    "    DATABASE_URL = f\"{DATABASE_CLIENT}://{USER}:{password}@{HOST}:{PORT}/{DATABASE}\"\n",
    "    engine = create_engine(DATABASE_URL)\n",
    "    Session = sessionmaker(bind=engine)\n",
    "    return engine, Session()\n",
    "\n"
   ]
  },
  {
   "cell_type": "code",
   "execution_count": null,
   "metadata": {},
   "outputs": [],
   "source": [
    "engine, session = create_db_connection(PASS)\n",
    "# from fastapi import HTTPException\n",
    "def execute_query(query: str) -> Dict:\n",
    "    try:\n",
    "        df_result = pd.read_sql_query(query, engine)\n",
    "        df_result = parse_nan_values(df_result)\n",
    "        return df_result.to_dict(orient=\"records\")\n",
    "    except Exception as e:\n",
    "        raise e"
   ]
  },
  {
   "cell_type": "code",
   "execution_count": null,
   "metadata": {},
   "outputs": [],
   "source": [
    "retry = 0\n",
    "while retry < 3:\n",
    "    try:\n",
    "        res = execute_query(sql)\n",
    "    except Exception as e:\n",
    "        res = await llm.generate_sql(prompt=prompt)     \n",
    "        sql_query = json.loads(clean_generation_result(res))\n",
    "        sql = sql_query.get(\"sql\", \"\")\n",
    "        res = execute_query(sql)\n",
    "        retry += 1\n",
    "        print(\"Exception Occured:\", e)\n",
    "    \n"
   ]
  },
  {
   "cell_type": "code",
   "execution_count": null,
   "metadata": {},
   "outputs": [],
   "source": [
    "res = await execute_with_retries(user_query=user_query, initial_generated_sql=sql_query, initial_error_message=error_message, engine=engine)\n"
   ]
  },
  {
   "cell_type": "code",
   "execution_count": null,
   "metadata": {},
   "outputs": [
    {
     "name": "stdout",
     "output_type": "stream",
     "text": [
      "WITH MonthlyFlights AS ( SELECT CAST(flights.month AS INT) AS flight_month, COUNT(*) AS num_flights FROM flights WHERE flights.year = 2015 GROUP BY flights.month ), LaggedFlights AS ( SELECT flight_month, num_flights, LAG(num_flights, 1, 0) OVER (ORDER BY flight_month) AS previous_month_flights FROM MonthlyFlights ) SELECT flight_month, (CAST(num_flights AS DECIMAL(10, 2)) - CAST(previous_month_flights AS DECIMAL(10, 2))) / CAST(previous_month_flights AS DECIMAL(10, 2)) AS month_over_month_change FROM LaggedFlights\n",
      "Attempt 1 failed with error: Not an executable object: 'WITH MonthlyFlights AS ( SELECT CAST(flights.month AS INT) AS flight_month, COUNT(*) AS num_flights FROM flights WHERE flights.year = 2015 GROUP BY flights.month ), LaggedFlights AS ( SELECT flight_month, num_flights, LAG(num_flights, 1, 0) OVER (ORDER BY flight_month) AS previous_month_flights FROM MonthlyFlights ) SELECT flight_month, (CAST(num_flights AS DECIMAL(10, 2)) - CAST(previous_month_flights AS DECIMAL(10, 2))) / CAST(previous_month_flights AS DECIMAL(10, 2)) AS month_over_month_change FROM LaggedFlights'\n",
      "WITH MonthlyFlights AS ( SELECT CAST(flights.month AS INT) AS flight_month, COUNT(*) AS num_flights FROM flights WHERE flights.year = 2015 GROUP BY flights.month ), LaggedFlights AS ( SELECT flight_month, num_flights, LAG(num_flights, 1, 0) OVER (ORDER BY flight_month) AS previous_month_flights FROM MonthlyFlights ) SELECT flight_month, (CAST(num_flights AS DECIMAL(10, 2)) - CAST(previous_month_flights AS DECIMAL(10, 2))) / CAST(previous_month_flights AS DECIMAL(10, 2)) AS month_over_month_change FROM LaggedFlights\n",
      "Attempt 2 failed with error: Not an executable object: 'WITH MonthlyFlights AS ( SELECT CAST(flights.month AS INT) AS flight_month, COUNT(*) AS num_flights FROM flights WHERE flights.year = 2015 GROUP BY flights.month ), LaggedFlights AS ( SELECT flight_month, num_flights, LAG(num_flights, 1, 0) OVER (ORDER BY flight_month) AS previous_month_flights FROM MonthlyFlights ) SELECT flight_month, (CAST(num_flights AS DECIMAL(10, 2)) - CAST(previous_month_flights AS DECIMAL(10, 2))) / CAST(previous_month_flights AS DECIMAL(10, 2)) AS month_over_month_change FROM LaggedFlights'\n",
      "WITH MonthlyFlights AS ( SELECT CAST(flights.month AS INT) AS flight_month, COUNT(*) AS num_flights FROM flights WHERE flights.year = 2015 GROUP BY flights.month ), LaggedFlights AS ( SELECT flight_month, num_flights, LAG(num_flights, 1, 0) OVER (ORDER BY flight_month) AS previous_month_flights FROM MonthlyFlights ) SELECT flight_month, (CAST(num_flights AS DECIMAL(10, 2)) - CAST(previous_month_flights AS DECIMAL(10, 2))) / CAST(previous_month_flights AS DECIMAL(10, 2)) AS month_over_month_change FROM LaggedFlights\n",
      "Attempt 3 failed with error: Not an executable object: 'WITH MonthlyFlights AS ( SELECT CAST(flights.month AS INT) AS flight_month, COUNT(*) AS num_flights FROM flights WHERE flights.year = 2015 GROUP BY flights.month ), LaggedFlights AS ( SELECT flight_month, num_flights, LAG(num_flights, 1, 0) OVER (ORDER BY flight_month) AS previous_month_flights FROM MonthlyFlights ) SELECT flight_month, (CAST(num_flights AS DECIMAL(10, 2)) - CAST(previous_month_flights AS DECIMAL(10, 2))) / CAST(previous_month_flights AS DECIMAL(10, 2)) AS month_over_month_change FROM LaggedFlights'\n"
     ]
    },
    {
     "ename": "Exception",
     "evalue": "SQL query execution failed after 3 attempts.",
     "output_type": "error",
     "traceback": [
      "\u001b[0;31m---------------------------------------------------------------------------\u001b[0m",
      "\u001b[0;31mException\u001b[0m                                 Traceback (most recent call last)",
      "Cell \u001b[0;32mIn[19], line 1\u001b[0m\n\u001b[0;32m----> 1\u001b[0m res \u001b[38;5;241m=\u001b[39m \u001b[38;5;28;01mawait\u001b[39;00m execute_with_retries(user_query\u001b[38;5;241m=\u001b[39muser_query, initial_generated_sql\u001b[38;5;241m=\u001b[39msql_query, initial_error_message\u001b[38;5;241m=\u001b[39merror_message, engine\u001b[38;5;241m=\u001b[39mengine)\n",
      "Cell \u001b[0;32mIn[18], line 52\u001b[0m, in \u001b[0;36mexecute_with_retries\u001b[0;34m(user_query, initial_generated_sql, initial_error_message, engine)\u001b[0m\n\u001b[1;32m     47\u001b[0m         \u001b[38;5;28mprint\u001b[39m(\u001b[38;5;124mf\u001b[39m\u001b[38;5;124m\"\u001b[39m\u001b[38;5;124mAttempt \u001b[39m\u001b[38;5;132;01m{\u001b[39;00mattempt\u001b[38;5;132;01m}\u001b[39;00m\u001b[38;5;124m failed with error: \u001b[39m\u001b[38;5;132;01m{\u001b[39;00merror_message\u001b[38;5;132;01m}\u001b[39;00m\u001b[38;5;124m\"\u001b[39m)\n\u001b[1;32m     48\u001b[0m         \u001b[38;5;66;03m# Optionally, you could update `generated_sql` with the corrected_sql to feed back into the model,\u001b[39;00m\n\u001b[1;32m     49\u001b[0m         \u001b[38;5;66;03m# or leave it as-is for the model to work on the error message.\u001b[39;00m\n\u001b[1;32m     50\u001b[0m \n\u001b[1;32m     51\u001b[0m \u001b[38;5;66;03m# If all attempts fail, raise an error message\u001b[39;00m\n\u001b[0;32m---> 52\u001b[0m \u001b[38;5;28;01mraise\u001b[39;00m \u001b[38;5;167;01mException\u001b[39;00m(\u001b[38;5;124m\"\u001b[39m\u001b[38;5;124mSQL query execution failed after 3 attempts.\u001b[39m\u001b[38;5;124m\"\u001b[39m)\n",
      "\u001b[0;31mException\u001b[0m: SQL query execution failed after 3 attempts."
     ]
    }
   ],
   "source": [
    "from pydantic_settings import BaseSettings, SettingsConfigDict\n",
    "\n",
    "\n",
    "class Settings(BaseSettings):\n",
    "    app_name: str = \"Awesome API\"\n",
    "    admin_email: str\n",
    "    items_per_user: int = 50\n",
    "\n",
    "    model_config = SettingsConfigDict(env_file=\".env\")\n"
   ]
  },
  {
   "cell_type": "code",
   "execution_count": null,
   "metadata": {},
   "outputs": [],
   "source": [
    "Settings.model_config"
   ]
  },
  {
   "cell_type": "code",
   "execution_count": null,
   "metadata": {},
   "outputs": [],
   "source": []
  }
 ],
 "metadata": {
  "kernelspec": {
   "display_name": "documentai",
   "language": "python",
   "name": "python3"
  },
  "language_info": {
   "codemirror_mode": {
    "name": "ipython",
    "version": 3
   },
   "file_extension": ".py",
   "mimetype": "text/x-python",
   "name": "python",
   "nbconvert_exporter": "python",
   "pygments_lexer": "ipython3",
   "version": "3.12.3"
  }
 },
 "nbformat": 4,
 "nbformat_minor": 2
}
