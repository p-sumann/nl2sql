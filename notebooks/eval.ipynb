{
 "cells": [
  {
   "cell_type": "code",
   "execution_count": 1,
   "metadata": {},
   "outputs": [],
   "source": [
    "\n",
    "from sqlalchemy import create_engine\n",
    "from sqlalchemy.orm import sessionmaker\n",
    "import os\n",
    "import pandas as pd\n",
    "import json\n",
    "\n",
    "# Environment variables\n",
    "\n",
    "PASS = os.getenv(\"PASS\")\n",
    "DATABASE = os.getenv(\"DATABASE\")\n",
    "USER = os.getenv(\"USER\")\n",
    "HOST = os.getenv(\"HOST\")\n",
    "DATABASE_CLIENT = os.getenv(\"DATABASE_CLIENT\")\n",
    "PORT = os.getenv(\"PORT\")"
   ]
  },
  {
   "cell_type": "code",
   "execution_count": 2,
   "metadata": {},
   "outputs": [],
   "source": [
    "# Database connection\n",
    "def create_db_connection(password):\n",
    "    DATABASE_URL = f\"{DATABASE_CLIENT}://{USER}:{password}@{HOST}:{PORT}/{DATABASE}\"\n",
    "    engine = create_engine(DATABASE_URL)\n",
    "    Session = sessionmaker(bind=engine)\n",
    "    return engine, Session()\n"
   ]
  },
  {
   "cell_type": "code",
   "execution_count": 3,
   "metadata": {},
   "outputs": [],
   "source": [
    "engine, session = create_db_connection(PASS)"
   ]
  },
  {
   "cell_type": "code",
   "execution_count": 4,
   "metadata": {},
   "outputs": [],
   "source": [
    "from typing import Dict"
   ]
  },
  {
   "cell_type": "code",
   "execution_count": 5,
   "metadata": {},
   "outputs": [],
   "source": [
    "def parse_nan_values(dataframe: pd.DataFrame) -> pd.DataFrame:\n",
    "    return dataframe.fillna(\"\")\n",
    "\n",
    "\n",
    "def parse_numeric_values(dataframe: pd.DataFrame) -> pd.DataFrame:\n",
    "    for column in dataframe.select_dtypes(include=[\"number\"]).columns:\n",
    "        dataframe[column] = dataframe[column].round(2)\n",
    "    return dataframe\n"
   ]
  },
  {
   "cell_type": "code",
   "execution_count": 6,
   "metadata": {},
   "outputs": [],
   "source": [
    "def execute_query(query: str) -> Dict:\n",
    "    try:\n",
    "        df_result = pd.read_sql_query(query, engine)\n",
    "        df_result = parse_nan_values(df_result)\n",
    "        df_result = parse_numeric_values(df_result)\n",
    "        return df_result.to_dict(orient=\"records\")\n",
    "    except Exception as e:\n",
    "        raise e\n"
   ]
  },
  {
   "cell_type": "code",
   "execution_count": 7,
   "metadata": {},
   "outputs": [],
   "source": [
    "\n",
    "\n",
    "def dump_to_json(data: Dict) -> str:\n",
    "    return json.dumps(data, indent=4)"
   ]
  },
  {
   "cell_type": "code",
   "execution_count": 35,
   "metadata": {},
   "outputs": [],
   "source": [
    "res = execute_query(\"\"\"SELECT a.airline, COUNT(*) AS total_flights, AVG(distance) AS avg_distance\n",
    "FROM flights f\n",
    "JOIN airlines a ON f.airline = a.iata_code\n",
    "WHERE f.year = 2015\n",
    "GROUP BY a.airline\n",
    "ORDER BY a.airline;\n",
    "\n",
    "\n",
    "\"\"\")"
   ]
  },
  {
   "cell_type": "code",
   "execution_count": 36,
   "metadata": {},
   "outputs": [
    {
     "data": {
      "text/plain": [
       "'[\\n    {\\n        \"airline\": \"Alaska Airlines Inc.\",\\n        \"total_flights\": 167,\\n        \"avg_distance\": 1258.01\\n    },\\n    {\\n        \"airline\": \"American Airlines Inc.\",\\n        \"total_flights\": 632,\\n        \"avg_distance\": 1035.42\\n    },\\n    {\\n        \"airline\": \"American Eagle Airlines Inc.\",\\n        \"total_flights\": 260,\\n        \"avg_distance\": 433.22\\n    },\\n    {\\n        \"airline\": \"Atlantic Southeast Airlines\",\\n        \"total_flights\": 512,\\n        \"avg_distance\": 453.05\\n    },\\n    {\\n        \"airline\": \"Delta Air Lines Inc.\",\\n        \"total_flights\": 747,\\n        \"avg_distance\": 852.72\\n    },\\n    {\\n        \"airline\": \"Frontier Airlines Inc.\",\\n        \"total_flights\": 66,\\n        \"avg_distance\": 979.48\\n    },\\n    {\\n        \"airline\": \"Hawaiian Airlines Inc.\",\\n        \"total_flights\": 64,\\n        \"avg_distance\": 664.92\\n    },\\n    {\\n        \"airline\": \"JetBlue Airways\",\\n        \"total_flights\": 235,\\n        \"avg_distance\": 1041.18\\n    },\\n    {\\n        \"airline\": \"Skywest Airlines Inc.\",\\n        \"total_flights\": 548,\\n        \"avg_distance\": 531.32\\n    },\\n    {\\n        \"airline\": \"Southwest Airlines Co.\",\\n        \"total_flights\": 1026,\\n        \"avg_distance\": 742.76\\n    },\\n    {\\n        \"airline\": \"Spirit Air Lines\",\\n        \"total_flights\": 82,\\n        \"avg_distance\": 1090.78\\n    },\\n    {\\n        \"airline\": \"US Airways Inc.\",\\n        \"total_flights\": 147,\\n        \"avg_distance\": 941.25\\n    },\\n    {\\n        \"airline\": \"United Air Lines Inc.\",\\n        \"total_flights\": 461,\\n        \"avg_distance\": 1317.01\\n    },\\n    {\\n        \"airline\": \"Virgin America\",\\n        \"total_flights\": 53,\\n        \"avg_distance\": 1318.15\\n    }\\n]'"
      ]
     },
     "execution_count": 36,
     "metadata": {},
     "output_type": "execute_result"
    }
   ],
   "source": [
    "\n",
    "data = dump_to_json(res)\n",
    "data"
   ]
  },
  {
   "cell_type": "code",
   "execution_count": null,
   "metadata": {},
   "outputs": [
    {
     "data": {
      "text/plain": [
       "'[\\n    {\\n        \"avg_departure_delay\": 10.61\\n    }\\n]'"
      ]
     },
     "execution_count": 19,
     "metadata": {},
     "output_type": "execute_result"
    }
   ],
   "source": []
  },
  {
   "cell_type": "code",
   "execution_count": null,
   "metadata": {},
   "outputs": [],
   "source": []
  }
 ],
 "metadata": {
  "kernelspec": {
   "display_name": "documentai",
   "language": "python",
   "name": "python3"
  },
  "language_info": {
   "codemirror_mode": {
    "name": "ipython",
    "version": 3
   },
   "file_extension": ".py",
   "mimetype": "text/x-python",
   "name": "python",
   "nbconvert_exporter": "python",
   "pygments_lexer": "ipython3",
   "version": "3.12.3"
  }
 },
 "nbformat": 4,
 "nbformat_minor": 2
}
