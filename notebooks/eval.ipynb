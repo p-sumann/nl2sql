{
 "cells": [
  {
   "cell_type": "code",
   "execution_count": null,
   "metadata": {},
   "outputs": [],
   "source": [
    "\n",
    "from sqlalchemy import create_engine\n",
    "from sqlalchemy.orm import sessionmaker\n",
    "import os\n",
    "import pandas as pd\n",
    "import json\n",
    "from typing import Dict\n",
    "\n",
    "# Environment variables\n",
    "\n",
    "PASS = os.getenv(\"PASS\")\n",
    "DATABASE = os.getenv(\"DATABASE\")\n",
    "USER = os.getenv(\"USER\")\n",
    "HOST = os.getenv(\"HOST\")\n",
    "DATABASE_CLIENT = os.getenv(\"DATABASE_CLIENT\")\n",
    "PORT = os.getenv(\"PORT\")"
   ]
  },
  {
   "cell_type": "code",
   "execution_count": 2,
   "metadata": {},
   "outputs": [],
   "source": [
    "# Database connection\n",
    "def create_db_connection(password):\n",
    "    DATABASE_URL = f\"{DATABASE_CLIENT}://{USER}:{password}@{HOST}:{PORT}/{DATABASE}\"\n",
    "    engine = create_engine(DATABASE_URL)\n",
    "    Session = sessionmaker(bind=engine)\n",
    "    return engine, Session()\n"
   ]
  },
  {
   "cell_type": "code",
   "execution_count": 3,
   "metadata": {},
   "outputs": [],
   "source": [
    "engine, session = create_db_connection(PASS)"
   ]
  },
  {
   "cell_type": "code",
   "execution_count": 5,
   "metadata": {},
   "outputs": [],
   "source": [
    "def parse_nan_values(dataframe: pd.DataFrame) -> pd.DataFrame:\n",
    "    return dataframe.fillna(\"\")\n",
    "\n",
    "\n",
    "def parse_numeric_values(dataframe: pd.DataFrame) -> pd.DataFrame:\n",
    "    for column in dataframe.select_dtypes(include=[\"number\"]).columns:\n",
    "        dataframe[column] = dataframe[column].round(2)\n",
    "    return dataframe\n"
   ]
  },
  {
   "cell_type": "code",
   "execution_count": 6,
   "metadata": {},
   "outputs": [],
   "source": [
    "def execute_query(query: str) -> Dict:\n",
    "    try:\n",
    "        df_result = pd.read_sql_query(query, engine)\n",
    "        df_result = parse_nan_values(df_result)\n",
    "        df_result = parse_numeric_values(df_result)\n",
    "        return df_result.to_dict(orient=\"records\")\n",
    "    except Exception as e:\n",
    "        raise e\n"
   ]
  },
  {
   "cell_type": "code",
   "execution_count": null,
   "metadata": {},
   "outputs": [],
   "source": [
    "def dump_to_json(data: Dict) -> str:\n",
    "    return json.dumps(data, indent=4)"
   ]
  },
  {
   "cell_type": "code",
   "execution_count": 35,
   "metadata": {},
   "outputs": [],
   "source": [
    "res = execute_query(\"\"\"SELECT a.airline, COUNT(*) AS total_flights, AVG(distance) AS avg_distance\n",
    "FROM flights f\n",
    "JOIN airlines a ON f.airline = a.iata_code\n",
    "WHERE f.year = 2015\n",
    "GROUP BY a.airline\n",
    "ORDER BY a.airline;\n",
    "\n",
    "\n",
    "\"\"\")"
   ]
  },
  {
   "cell_type": "code",
   "execution_count": null,
   "metadata": {},
   "outputs": [
    {
     "data": {
      "text/plain": [
       "'[\\n    {\\n        \"airline\": \"Alaska Airlines Inc.\",\\n        \"total_flights\": 167,\\n        \"avg_distance\": 1258.01\\n    },\\n    {\\n        \"airline\": \"American Airlines Inc.\",\\n        \"total_flights\": 632,\\n        \"avg_distance\": 1035.42\\n    },\\n    {\\n        \"airline\": \"American Eagle Airlines Inc.\",\\n        \"total_flights\": 260,\\n        \"avg_distance\": 433.22\\n    },\\n    {\\n        \"airline\": \"Atlantic Southeast Airlines\",\\n        \"total_flights\": 512,\\n        \"avg_distance\": 453.05\\n    },\\n    {\\n        \"airline\": \"Delta Air Lines Inc.\",\\n        \"total_flights\": 747,\\n        \"avg_distance\": 852.72\\n    },\\n    {\\n        \"airline\": \"Frontier Airlines Inc.\",\\n        \"total_flights\": 66,\\n        \"avg_distance\": 979.48\\n    },\\n    {\\n        \"airline\": \"Hawaiian Airlines Inc.\",\\n        \"total_flights\": 64,\\n        \"avg_distance\": 664.92\\n    },\\n    {\\n        \"airline\": \"JetBlue Airways\",\\n        \"total_flights\": 235,\\n        \"avg_distance\": 1041.18\\n    },\\n    {\\n        \"airline\": \"Skywest Airlines Inc.\",\\n        \"total_flights\": 548,\\n        \"avg_distance\": 531.32\\n    },\\n    {\\n        \"airline\": \"Southwest Airlines Co.\",\\n        \"total_flights\": 1026,\\n        \"avg_distance\": 742.76\\n    },\\n    {\\n        \"airline\": \"Spirit Air Lines\",\\n        \"total_flights\": 82,\\n        \"avg_distance\": 1090.78\\n    },\\n    {\\n        \"airline\": \"US Airways Inc.\",\\n        \"total_flights\": 147,\\n        \"avg_distance\": 941.25\\n    },\\n    {\\n        \"airline\": \"United Air Lines Inc.\",\\n        \"total_flights\": 461,\\n        \"avg_distance\": 1317.01\\n    },\\n    {\\n        \"airline\": \"Virgin America\",\\n        \"total_flights\": 53,\\n        \"avg_distance\": 1318.15\\n    }\\n]'"
      ]
     },
     "execution_count": 36,
     "metadata": {},
     "output_type": "execute_result"
    }
   ],
   "source": [
    "data = dump_to_json(res)\n",
    "data"
   ]
  },
  {
   "cell_type": "code",
   "execution_count": 4,
   "metadata": {},
   "outputs": [],
   "source": [
    "eval_df = pd.read_csv(\"../data/eval.csv\")"
   ]
  },
  {
   "cell_type": "code",
   "execution_count": 5,
   "metadata": {},
   "outputs": [
    {
     "data": {
      "text/html": [
       "<div>\n",
       "<style scoped>\n",
       "    .dataframe tbody tr th:only-of-type {\n",
       "        vertical-align: middle;\n",
       "    }\n",
       "\n",
       "    .dataframe tbody tr th {\n",
       "        vertical-align: top;\n",
       "    }\n",
       "\n",
       "    .dataframe thead th {\n",
       "        text-align: right;\n",
       "    }\n",
       "</style>\n",
       "<table border=\"1\" class=\"dataframe\">\n",
       "  <thead>\n",
       "    <tr style=\"text-align: right;\">\n",
       "      <th></th>\n",
       "      <th>sql_query</th>\n",
       "      <th>result</th>\n",
       "      <th>description</th>\n",
       "    </tr>\n",
       "  </thead>\n",
       "  <tbody>\n",
       "    <tr>\n",
       "      <th>0</th>\n",
       "      <td>SELECT a.airline, COUNT(*) AS total_flights\\nF...</td>\n",
       "      <td>'[\\n    {\\n        \"airline\": \"Southwest Airli...</td>\n",
       "      <td>Which airline operated the most flights in 2015?</td>\n",
       "    </tr>\n",
       "    <tr>\n",
       "      <th>1</th>\n",
       "      <td>SELECT COUNT(*) AS total_flights\\nFROM flights...</td>\n",
       "      <td>'[\\n {\\n \"total_flights\": 191\\n }\\n]'</td>\n",
       "      <td>How many flights departed from Dallas/Fort Wor...</td>\n",
       "    </tr>\n",
       "    <tr>\n",
       "      <th>2</th>\n",
       "      <td>SELECT *\\nFROM airports\\nWHERE state = 'CA';</td>\n",
       "      <td>'[\\n {\\n \"iata_code\": \"ACV\",\\n \"airport\": \"Arc...</td>\n",
       "      <td>List all airports located in California.</td>\n",
       "    </tr>\n",
       "    <tr>\n",
       "      <th>3</th>\n",
       "      <td>SELECT AVG(departure_delay) AS avg_departure_d...</td>\n",
       "      <td>'[\\n {\\n \"avg_departure_delay\": 10.61\\n }\\n]'</td>\n",
       "      <td>What is the average departure delay for flight...</td>\n",
       "    </tr>\n",
       "    <tr>\n",
       "      <th>4</th>\n",
       "      <td>SELECT COUNT(*) AS cancelled_flights\\nFROM fli...</td>\n",
       "      <td>'[\\n {\\n \"cancelled_flights\": 63\\n }\\n]'</td>\n",
       "      <td>How many flights were cancelled in 2015?</td>\n",
       "    </tr>\n",
       "  </tbody>\n",
       "</table>\n",
       "</div>"
      ],
      "text/plain": [
       "                                           sql_query  \\\n",
       "0  SELECT a.airline, COUNT(*) AS total_flights\\nF...   \n",
       "1  SELECT COUNT(*) AS total_flights\\nFROM flights...   \n",
       "2       SELECT *\\nFROM airports\\nWHERE state = 'CA';   \n",
       "3  SELECT AVG(departure_delay) AS avg_departure_d...   \n",
       "4  SELECT COUNT(*) AS cancelled_flights\\nFROM fli...   \n",
       "\n",
       "                                              result  \\\n",
       "0  '[\\n    {\\n        \"airline\": \"Southwest Airli...   \n",
       "1              '[\\n {\\n \"total_flights\": 191\\n }\\n]'   \n",
       "2  '[\\n {\\n \"iata_code\": \"ACV\",\\n \"airport\": \"Arc...   \n",
       "3      '[\\n {\\n \"avg_departure_delay\": 10.61\\n }\\n]'   \n",
       "4           '[\\n {\\n \"cancelled_flights\": 63\\n }\\n]'   \n",
       "\n",
       "                                         description  \n",
       "0   Which airline operated the most flights in 2015?  \n",
       "1  How many flights departed from Dallas/Fort Wor...  \n",
       "2           List all airports located in California.  \n",
       "3  What is the average departure delay for flight...  \n",
       "4           How many flights were cancelled in 2015?  "
      ]
     },
     "execution_count": 5,
     "metadata": {},
     "output_type": "execute_result"
    }
   ],
   "source": [
    "eval_df.head()"
   ]
  },
  {
   "cell_type": "code",
   "execution_count": null,
   "metadata": {},
   "outputs": [
    {
     "name": "stdout",
     "output_type": "stream",
     "text": [
      "                                           sql_query  \\\n",
      "0  SELECT a.airline, COUNT(*) AS total_flights\\nF...   \n",
      "1  SELECT COUNT(*) AS total_flights\\nFROM flights...   \n",
      "2       SELECT *\\nFROM airports\\nWHERE state = 'CA';   \n",
      "3  SELECT AVG(departure_delay) AS avg_departure_d...   \n",
      "4  SELECT COUNT(*) AS cancelled_flights\\nFROM fli...   \n",
      "\n",
      "                                              result  \\\n",
      "0      {        \"airline\": \"Southwest Airlines Co...   \n",
      "1                           { \"total_flights\": 191 }   \n",
      "2   { \"iata_code\": \"ACV\", \"airport\": \"Arcata Airp...   \n",
      "3                   { \"avg_departure_delay\": 10.61 }   \n",
      "4                        { \"cancelled_flights\": 63 }   \n",
      "\n",
      "                                         description  \\\n",
      "0   Which airline operated the most flights in 2015?   \n",
      "1  How many flights departed from Dallas/Fort Wor...   \n",
      "2           List all airports located in California.   \n",
      "3  What is the average departure delay for flight...   \n",
      "4           How many flights were cancelled in 2015?   \n",
      "\n",
      "                                       parsed_result  \n",
      "0  {'airline': 'Southwest Airlines Co.', 'total_f...  \n",
      "1                             {'total_flights': 191}  \n",
      "2  {'iata_code': 'ACV', 'airport': 'Arcata Airpor...  \n",
      "3                     {'avg_departure_delay': 10.61}  \n",
      "4                          {'cancelled_flights': 63}  \n"
     ]
    }
   ],
   "source": [
    "def parse_to_json(data: str) -> dict:\n",
    "    data = data.replace(\"'\", \"\\\"\").replace('\\\\n', '')\n",
    "    return json.loads(f\"[{data}]\")[0]\n",
    "\n",
    "eval_df['parsed_result'] = eval_df['result'].apply(parse_to_json)\n"
   ]
  },
  {
   "cell_type": "code",
   "execution_count": 24,
   "metadata": {},
   "outputs": [
    {
     "data": {
      "text/plain": [
       "{'airline': 'Southwest Airlines Co.', 'total_flights': 1026}"
      ]
     },
     "execution_count": 24,
     "metadata": {},
     "output_type": "execute_result"
    }
   ],
   "source": [
    "eval_df.parsed_result[0]"
   ]
  },
  {
   "cell_type": "code",
   "execution_count": 25,
   "metadata": {},
   "outputs": [],
   "source": [
    "listed_eval_sets = eval_df.parsed_result.to_list()"
   ]
  },
  {
   "cell_type": "code",
   "execution_count": 27,
   "metadata": {},
   "outputs": [
    {
     "data": {
      "text/plain": [
       "[{'airline': 'Southwest Airlines Co.', 'total_flights': 1026},\n",
       " {'total_flights': 191},\n",
       " {'iata_code': 'ACV',\n",
       "  'airport': 'Arcata Airport',\n",
       "  'city': 'Arcata/Eureka',\n",
       "  'state': 'CA',\n",
       "  'country': 'USA',\n",
       "  'latitude': 40.98,\n",
       "  'longitude': -124.11},\n",
       " {'avg_departure_delay': 10.61},\n",
       " {'cancelled_flights': 63},\n",
       " {'airline': 'Hawaiian Airlines Inc.', 'on_time_percentage': 90.63},\n",
       " {'destination_airport': 'SFO', 'flight_count': 10},\n",
       " {'airline': 'Frontier Airlines Inc.', 'avg_arrival_delay': 15.56},\n",
       " {'diverted_flights': 8},\n",
       " {'origin_airport': 'ATL', 'departure_count': 280},\n",
       " {'airline': 'Atlantic Southeast Airlines', 'cancellations': 18},\n",
       " {'airline': 'Alaska Airlines Inc.',\n",
       "  'total_flights': 167,\n",
       "  'avg_distance': 1258.01}]"
      ]
     },
     "execution_count": 27,
     "metadata": {},
     "output_type": "execute_result"
    }
   ],
   "source": [
    "listed_eval_sets"
   ]
  },
  {
   "cell_type": "code",
   "execution_count": 28,
   "metadata": {},
   "outputs": [],
   "source": [
    "# you would need to define a function that sends the query to the LLM and returns the result\n",
    "# this is just a placeholder\n",
    "def send_query_to_llm(query: str):\n",
    "    # Replace this with your actual LLM call\n",
    "    # This is just a dummy implementation\n",
    "    return \"LLM Response for: \" + query\n",
    "\n",
    "llm_responses = []\n",
    "for index, row in eval_df.iterrows():\n",
    "    query = row['sql_query']\n",
    "    description = row['description']\n",
    "    llm_response = send_query_to_llm(description) # or query, depending on what you want to send\n",
    "    llm_responses.append(llm_response)\n",
    "\n",
    "eval_df['llm_response'] = llm_responses"
   ]
  },
  {
   "cell_type": "code",
   "execution_count": 83,
   "metadata": {},
   "outputs": [
    {
     "data": {
      "text/plain": [
       "0     {'airline': 'Southwest Airlines Co.', 'total_f...\n",
       "1                                {'total_flights': 191}\n",
       "2     {'iata_code': 'ACV', 'airport': 'Arcata Airpor...\n",
       "3                        {'avg_departure_delay': 10.61}\n",
       "4                             {'cancelled_flights': 63}\n",
       "5     {'airline': 'Hawaiian Airlines Inc.', 'on_time...\n",
       "6     {'destination_airport': 'SFO', 'flight_count':...\n",
       "7     {'airline': 'Frontier Airlines Inc.', 'avg_arr...\n",
       "8                               {'diverted_flights': 8}\n",
       "9     {'origin_airport': 'ATL', 'departure_count': 280}\n",
       "10    {'airline': 'Atlantic Southeast Airlines', 'ca...\n",
       "11    {'airline': 'Alaska Airlines Inc.', 'total_fli...\n",
       "Name: parsed_result, dtype: object"
      ]
     },
     "execution_count": 83,
     "metadata": {},
     "output_type": "execute_result"
    }
   ],
   "source": [
    "\n",
    "eval_df.parsed_result"
   ]
  },
  {
   "cell_type": "code",
   "execution_count": 44,
   "metadata": {},
   "outputs": [],
   "source": [
    "import os\n",
    "import sys\n",
    "sys.path.insert(0, os.path.abspath(os.path.join(os.getcwd(), \"..\")))\n",
    "\n",
    "from src.utils.database_utils import DatabaseConnector\n",
    "from src.utils.common_utils import  clean_generation_result\n",
    "from src.core.llm import GenerativeModelWrapper"
   ]
  },
  {
   "cell_type": "code",
   "execution_count": 45,
   "metadata": {},
   "outputs": [],
   "source": [
    "llm = GenerativeModelWrapper()\n"
   ]
  },
  {
   "cell_type": "code",
   "execution_count": 46,
   "metadata": {},
   "outputs": [],
   "source": [
    "description_set = eval_df.description.to_list()"
   ]
  },
  {
   "cell_type": "code",
   "execution_count": 47,
   "metadata": {},
   "outputs": [
    {
     "data": {
      "text/plain": [
       "['Which airline operated the most flights in 2015?',\n",
       " 'How many flights departed from Dallas/Fort Worth International Airport (DFW) in 2015?',\n",
       " 'List all airports located in California.',\n",
       " 'What is the average departure delay for flights departing from Los Angeles International Airport (LAX) in 2015?',\n",
       " 'How many flights were cancelled in 2015?',\n",
       " 'Which airline had the highest on-time departure rate in 2015 (considering flights with a departure delay of 15 minutes or less as on time)?',\n",
       " 'Which destination airport received the most flights from John F. Kennedy International Airport (JFK) in 2015?',\n",
       " 'List the top 5 airlines with the highest average arrival delay in 2015.',\n",
       " 'How many flights were diverted in 2015?',\n",
       " 'Which airport had the most departures in 2015?',\n",
       " 'Which airline had the most cancellations in 2015?',\n",
       " 'For each airline, what was the total number of flights and the average distance flown in 2015?']"
      ]
     },
     "execution_count": 47,
     "metadata": {},
     "output_type": "execute_result"
    }
   ],
   "source": [
    "description_set"
   ]
  },
  {
   "cell_type": "code",
   "execution_count": 63,
   "metadata": {},
   "outputs": [],
   "source": [
    "generated_llm_response = {}\n",
    "for set in description_set:\n",
    "    res = await llm.generate_sql(set)\n",
    "    cleaned_response = clean_generation_result(res)\n",
    "    parsed = json.loads(cleaned_response)\n",
    "    generated_llm_response[set] = parsed\n",
    "    \n",
    "    "
   ]
  },
  {
   "cell_type": "code",
   "execution_count": 50,
   "metadata": {},
   "outputs": [
    {
     "data": {
      "text/plain": [
       "{'Which airline operated the most flights in 2015?': {'sql': 'SELECT a.airline, COUNT(f.flight_number) AS num_flights FROM flights AS f JOIN airlines AS a ON f.airline = a.iata_code WHERE f.year = 2015 GROUP BY a.airline ORDER BY num_flights DESC LIMIT 1'},\n",
       " 'How many flights departed from Dallas/Fort Worth International Airport (DFW) in 2015?': {'sql': \"SELECT count(*) AS num_flights FROM flights AS f JOIN airports AS a ON lower(f.origin_airport) = lower(a.iata_code) WHERE lower(a.airport) = lower('Dallas/Fort Worth International Airport') AND f.year = 2015\"},\n",
       " 'List all airports located in California.': {'sql': \"SELECT iata_code, airport FROM airports WHERE lower(state) = lower('California')\"},\n",
       " 'What is the average departure delay for flights departing from Los Angeles International Airport (LAX) in 2015?': {'sql': \"SELECT AVG(flights.departure_delay) AS average_departure_delay FROM flights JOIN airports ON flights.origin_airport = airports.iata_code WHERE lower(airports.airport) = lower('Los Angeles International Airport') AND flights.year = 2015\"},\n",
       " 'How many flights were cancelled in 2015?': {'sql': 'SELECT count(*) AS number_of_cancelled_flights FROM flights WHERE cancelled = 1 AND year = 2015'},\n",
       " 'Which airline had the highest on-time departure rate in 2015 (considering flights with a departure delay of 15 minutes or less as on time)?': {'sql': 'SELECT a.airline AS airline, COUNT(CASE WHEN f.departure_delay <= 15 THEN 1 END) * 1.0 / COUNT(*) AS on_time_departure_rate FROM flights AS f JOIN airlines AS a ON f.airline = a.iata_code GROUP BY a.airline ORDER BY on_time_departure_rate DESC LIMIT 1'},\n",
       " 'Which destination airport received the most flights from John F. Kennedy International Airport (JFK) in 2015?': {'sql': \"SELECT flights.destination_airport AS destination_airport, count(*) AS num_flights FROM flights JOIN airports ON flights.origin_airport = airports.iata_code WHERE lower(airports.airport) = lower('John F. Kennedy International Airport') AND flights.year = 2015 GROUP BY flights.destination_airport ORDER BY num_flights DESC LIMIT 1\"},\n",
       " 'List the top 5 airlines with the highest average arrival delay in 2015.': {'sql': 'SELECT a.airline AS airline_name, AVG(f.arrival_delay) AS average_arrival_delay FROM flights AS f JOIN airlines AS a ON f.airline = a.iata_code WHERE f.year = 2015 GROUP BY a.airline ORDER BY AVG(f.arrival_delay) DESC LIMIT 5'},\n",
       " 'How many flights were diverted in 2015?': {'sql': 'SELECT COUNT(*) AS diverted_flight_count FROM flights WHERE year = 2015 AND diverted = 1'},\n",
       " 'Which airport had the most departures in 2015?': {'sql': 'SELECT  t1.airport AS airport_name,  COUNT(t2.origin_airport) AS num_departures FROM airports AS t1 JOIN flights AS t2  ON t1.iata_code = t2.origin_airport WHERE  t2.year = 2015 GROUP BY  t1.airport ORDER BY  num_departures DESC LIMIT 1'},\n",
       " 'Which airline had the most cancellations in 2015?': {'sql': 'SELECT a.airline AS airline, COUNT(f.cancelled) AS total_cancellations FROM flights AS f JOIN airlines AS a ON f.airline = a.iata_code WHERE f.year = 2015 AND f.cancelled = 1 GROUP BY a.airline ORDER BY total_cancellations DESC LIMIT 1'},\n",
       " 'For each airline, what was the total number of flights and the average distance flown in 2015?': {'sql': 'SELECT a.airline AS airline, COUNT(f.flight_number) AS total_flights, AVG(f.distance) AS average_distance FROM flights AS f JOIN airlines AS a ON f.airline = a.iata_code GROUP BY a.airline'}}"
      ]
     },
     "execution_count": 50,
     "metadata": {},
     "output_type": "execute_result"
    }
   ],
   "source": [
    "generated_llm_response"
   ]
  },
  {
   "cell_type": "code",
   "execution_count": 64,
   "metadata": {},
   "outputs": [],
   "source": [
    "db = DatabaseConnector()"
   ]
  },
  {
   "cell_type": "code",
   "execution_count": 65,
   "metadata": {},
   "outputs": [
    {
     "data": {
      "text/plain": [
       "2"
      ]
     },
     "execution_count": 65,
     "metadata": {},
     "output_type": "execute_result"
    }
   ],
   "source": [
    "len(db.execute_query(list(generated_llm_response.values())[0].get('sql'))[0])\n"
   ]
  },
  {
   "cell_type": "code",
   "execution_count": 66,
   "metadata": {},
   "outputs": [],
   "source": [
    "eval_generated_llm_respone = {}\n",
    "\n",
    "for i, j in generated_llm_response.items():\n",
    "    exectued_query = db.execute_query(j.get('sql'))\n",
    "    eval_generated_llm_respone[i] = (j, exectued_query)\n"
   ]
  },
  {
   "cell_type": "code",
   "execution_count": 67,
   "metadata": {},
   "outputs": [
    {
     "data": {
      "text/plain": [
       "{'Which airline operated the most flights in 2015?': ({'sql': 'SELECT a.airline, count(*) AS total_flights FROM flights AS f JOIN airlines AS a ON f.airline = a.iata_code WHERE f.year = 2015 GROUP BY a.airline ORDER BY total_flights DESC LIMIT 1'},\n",
       "  [{'airline': 'Southwest Airlines Co.', 'total_flights': 1026}]),\n",
       " 'How many flights departed from Dallas/Fort Worth International Airport (DFW) in 2015?': ({'sql': \"SELECT count(*) AS number_of_flights FROM flights AS f JOIN airports AS a ON lower(f.origin_airport) = lower(a.iata_code) WHERE lower(a.airport) = lower('Dallas/Fort Worth International Airport') AND f.year = 2015\"},\n",
       "  [{'number_of_flights': 191}]),\n",
       " 'List all airports located in California.': ({'sql': \"SELECT airport, city FROM airports WHERE lower(state) = lower('California')\"},\n",
       "  []),\n",
       " 'What is the average departure delay for flights departing from Los Angeles International Airport (LAX) in 2015?': ({'sql': \"SELECT AVG(flights.departure_delay) AS average_departure_delay FROM flights JOIN airports ON flights.origin_airport = airports.iata_code WHERE lower(airports.airport) = lower('Los Angeles International Airport') AND flights.year = 2015\"},\n",
       "  [{'average_departure_delay': 10.61}]),\n",
       " 'How many flights were cancelled in 2015?': ({'sql': 'SELECT count(*) AS number_of_cancelled_flights FROM flights WHERE cancelled = 1'},\n",
       "  [{'number_of_cancelled_flights': 63}]),\n",
       " 'Which airline had the highest on-time departure rate in 2015 (considering flights with a departure delay of 15 minutes or less as on time)?': ({'sql': 'SELECT a.airline AS airline, CAST(SUM(CASE WHEN f.departure_delay <= 15 THEN 1 ELSE 0 END) AS REAL) * 100 / COUNT(f.flight_number) AS on_time_departure_rate FROM flights AS f JOIN airlines AS a ON f.airline = a.iata_code WHERE f.year = 2015 GROUP BY a.airline ORDER BY on_time_departure_rate DESC LIMIT 1'},\n",
       "  [{'airline': 'Hawaiian Airlines Inc.', 'on_time_departure_rate': 90.62}]),\n",
       " 'Which destination airport received the most flights from John F. Kennedy International Airport (JFK) in 2015?': ({'sql': \"SELECT flights.destination_airport AS destination_airport, COUNT(*) AS num_flights FROM flights JOIN airports ON flights.origin_airport = airports.iata_code WHERE lower(airports.airport) = lower('John F. Kennedy International Airport') AND flights.year = 2015 GROUP BY flights.destination_airport ORDER BY num_flights DESC LIMIT 1\"},\n",
       "  []),\n",
       " 'List the top 5 airlines with the highest average arrival delay in 2015.': ({'sql': 'SELECT a.airline AS airline_name, AVG(f.arrival_delay) AS average_arrival_delay FROM flights AS f JOIN airlines AS a ON f.airline = a.iata_code WHERE f.year = 2015 GROUP BY a.airline ORDER BY average_arrival_delay DESC LIMIT 5'},\n",
       "  [{'airline_name': 'Frontier Airlines Inc.', 'average_arrival_delay': 15.56},\n",
       "   {'airline_name': 'Spirit Air Lines', 'average_arrival_delay': 8.0},\n",
       "   {'airline_name': 'JetBlue Airways', 'average_arrival_delay': 7.84},\n",
       "   {'airline_name': 'Atlantic Southeast Airlines',\n",
       "    'average_arrival_delay': 7.54},\n",
       "   {'airline_name': 'US Airways Inc.', 'average_arrival_delay': 7.43}]),\n",
       " 'How many flights were diverted in 2015?': ({'sql': 'SELECT COUNT(*) AS diverted_flights FROM flights WHERE year = 2015 AND diverted = 1'},\n",
       "  [{'diverted_flights': 8}]),\n",
       " 'Which airport had the most departures in 2015?': ({'sql': 'SELECT a.airport AS airport_name FROM flights AS f JOIN airports AS a ON f.origin_airport = a.iata_code GROUP BY a.airport ORDER BY COUNT(*) DESC LIMIT 1'},\n",
       "  [{'airport_name': 'Hartsfield-Jackson Atlanta International Airport'}]),\n",
       " 'Which airline had the most cancellations in 2015?': ({'sql': 'SELECT a.airline AS airline_name, COUNT(f.cancelled) AS num_cancellations FROM flights AS f JOIN airlines AS a ON f.airline = a.iata_code WHERE f.year = 2015 AND f.cancelled = 1 GROUP BY a.airline ORDER BY num_cancellations DESC LIMIT 1'},\n",
       "  [{'airline_name': 'Atlantic Southeast Airlines', 'num_cancellations': 18}]),\n",
       " 'For each airline, what was the total number of flights and the average distance flown in 2015?': ({'sql': 'SELECT a.airline AS airline_name, COUNT(f.flight_number) AS total_flights, AVG(f.distance) AS average_distance FROM flights AS f JOIN airlines AS a ON f.airline = a.iata_code GROUP BY a.airline'},\n",
       "  [{'airline_name': 'Alaska Airlines Inc.',\n",
       "    'total_flights': 167,\n",
       "    'average_distance': 1258.01},\n",
       "   {'airline_name': 'Hawaiian Airlines Inc.',\n",
       "    'total_flights': 64,\n",
       "    'average_distance': 664.92},\n",
       "   {'airline_name': 'Virgin America',\n",
       "    'total_flights': 53,\n",
       "    'average_distance': 1318.15},\n",
       "   {'airline_name': 'American Airlines Inc.',\n",
       "    'total_flights': 632,\n",
       "    'average_distance': 1035.42},\n",
       "   {'airline_name': 'American Eagle Airlines Inc.',\n",
       "    'total_flights': 260,\n",
       "    'average_distance': 433.22},\n",
       "   {'airline_name': 'Atlantic Southeast Airlines',\n",
       "    'total_flights': 512,\n",
       "    'average_distance': 453.05},\n",
       "   {'airline_name': 'Frontier Airlines Inc.',\n",
       "    'total_flights': 66,\n",
       "    'average_distance': 979.48},\n",
       "   {'airline_name': 'Skywest Airlines Inc.',\n",
       "    'total_flights': 548,\n",
       "    'average_distance': 531.32},\n",
       "   {'airline_name': 'Southwest Airlines Co.',\n",
       "    'total_flights': 1026,\n",
       "    'average_distance': 742.76},\n",
       "   {'airline_name': 'JetBlue Airways',\n",
       "    'total_flights': 235,\n",
       "    'average_distance': 1041.18},\n",
       "   {'airline_name': 'Spirit Air Lines',\n",
       "    'total_flights': 82,\n",
       "    'average_distance': 1090.78},\n",
       "   {'airline_name': 'Delta Air Lines Inc.',\n",
       "    'total_flights': 747,\n",
       "    'average_distance': 852.72},\n",
       "   {'airline_name': 'US Airways Inc.',\n",
       "    'total_flights': 147,\n",
       "    'average_distance': 941.25},\n",
       "   {'airline_name': 'United Air Lines Inc.',\n",
       "    'total_flights': 461,\n",
       "    'average_distance': 1317.01}])}"
      ]
     },
     "execution_count": 67,
     "metadata": {},
     "output_type": "execute_result"
    }
   ],
   "source": [
    "eval_generated_llm_respone"
   ]
  },
  {
   "cell_type": "code",
   "execution_count": 79,
   "metadata": {},
   "outputs": [],
   "source": [
    "accuracy = [\n",
    "    True,\n",
    "    True,\n",
    "    False,\n",
    "    True,\n",
    "    True,\n",
    "    True,\n",
    "    False,\n",
    "    True,\n",
    "    True,\n",
    "    True,\n",
    "    True,\n",
    "    True,\n",
    "]"
   ]
  },
  {
   "cell_type": "code",
   "execution_count": null,
   "metadata": {},
   "outputs": [
    {
     "name": "stdout",
     "output_type": "stream",
     "text": [
      "Accuracy: 0.8333333333333334\n",
      "Precision: 1.0\n",
      "Recall: 0.8333333333333334\n",
      "F1 Score: 0.9090909090909091\n"
     ]
    },
    {
     "name": "stderr",
     "output_type": "stream",
     "text": [
      "/home/suman/.conda/envs/documentai/lib/python3.12/site-packages/sklearn/utils/fixes.py:22: RuntimeWarning: coroutine 'GenerativeModelWrapper.generate_sql' was never awaited\n",
      "  from ..externals._packaging.version import parse as parse_version\n",
      "RuntimeWarning: Enable tracemalloc to get the object allocation traceback\n"
     ]
    }
   ],
   "source": [
    "from sklearn.metrics import accuracy_score, precision_score, recall_score, f1_score\n",
    "\n",
    "y_true = [True] * len(accuracy)\n",
    "y_pred = accuracy \n",
    "\n",
    "# Calculate metrics\n",
    "accuracy_val = accuracy_score(y_true, y_pred)\n",
    "precision_val = precision_score(y_true, y_pred)\n",
    "recall_val = recall_score(y_true, y_pred)\n",
    "f1_val = f1_score(y_true, y_pred)\n",
    "\n",
    "print(f\"Accuracy: {accuracy_val}\")\n",
    "print(f\"Precision: {precision_val}\")\n",
    "print(f\"Recall: {recall_val}\")\n",
    "print(f\"F1 Score: {f1_val}\")"
   ]
  }
 ],
 "metadata": {
  "kernelspec": {
   "display_name": "documentai",
   "language": "python",
   "name": "python3"
  },
  "language_info": {
   "codemirror_mode": {
    "name": "ipython",
    "version": 3
   },
   "file_extension": ".py",
   "mimetype": "text/x-python",
   "name": "python",
   "nbconvert_exporter": "python",
   "pygments_lexer": "ipython3",
   "version": "3.12.3"
  }
 },
 "nbformat": 4,
 "nbformat_minor": 2
}
