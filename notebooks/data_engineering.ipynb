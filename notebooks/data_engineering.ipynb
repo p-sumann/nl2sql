{
 "cells": [
  {
   "cell_type": "markdown",
   "metadata": {},
   "source": [
    "Since, the dataset is huge, around 5.8 million records, the default choice is spark.\n",
    "\n",
    "## Why Spark?\n",
    "\n",
    "Apache Spark was chosen as the primary data processing framework for this flight delays analysis project for several key reasons:\n",
    "\n",
    "1. **Large Dataset Handling**\n",
    "   - The dataset contains approximately 5.8 million flight records\n",
    "   - Spark's distributed computing capabilities allow efficient processing of large-scale data\n",
    "   - In-memory processing provides faster data operations compared to traditional disk-based solutions\n",
    "\n",
    "2. **Scalability**\n",
    "   - Spark can easily scale from local development to cluster deployment\n",
    "   - Supports both vertical (more memory/CPU) and horizontal (more nodes) scaling\n",
    "   - Efficient memory management with features like off-heap memory storage\n",
    "\n",
    "3. **SQL and DataFrame Operations**\n",
    "   - Native support for SQL queries and DataFrame operations\n",
    "   - Familiar APIs for data scientists and analysts\n",
    "   - Easy integration with PostgreSQL and other data sources\n",
    "\n",
    "4. **Performance Optimization**\n",
    "   - Built-in optimization engine (Catalyst) for query planning\n",
    "   - Configurable parallelism and partitioning for better performance\n",
    "   - Lazy evaluation enables efficient execution plans\n",
    "\n",
    "5. **Integration Capabilities**\n",
    "   - Seamless connection to PostgreSQL using JDBC\n",
    "   - Compatible with Python ecosystem (pandas, numpy, etc.)\n",
    "   - Support for various file formats (CSV, Parquet, JSON, etc.)\n",
    "\n",
    "The configuration used in this project is optimized for local development while maintaining the ability to scale up when needed:\n",
    "- Multiple executor cores for parallel processing\n",
    "- Sufficient memory allocation for both driver and executors\n",
    "- Off-heap memory support for better memory management\n",
    "- Optimized shuffle partitions for balanced data distribution"
   ]
  },
  {
   "cell_type": "code",
   "execution_count": 1,
   "metadata": {},
   "outputs": [
    {
     "name": "stderr",
     "output_type": "stream",
     "text": [
      "your 131072x1 screen size is bogus. expect trouble\n",
      "25/02/24 18:27:43 WARN Utils: Your hostname, DESKTOP-U7R862J resolves to a loopback address: 127.0.1.1; using 10.255.255.254 instead (on interface lo)\n",
      "25/02/24 18:27:43 WARN Utils: Set SPARK_LOCAL_IP if you need to bind to another address\n"
     ]
    },
    {
     "name": "stdout",
     "output_type": "stream",
     "text": [
      ":: loading settings :: url = jar:file:/home/suman/.conda/envs/documentai/lib/python3.12/site-packages/pyspark/jars/ivy-2.5.1.jar!/org/apache/ivy/core/settings/ivysettings.xml\n"
     ]
    },
    {
     "name": "stderr",
     "output_type": "stream",
     "text": [
      "Ivy Default Cache set to: /home/suman/.ivy2/cache\n",
      "The jars for the packages stored in: /home/suman/.ivy2/jars\n",
      "org.postgresql#postgresql added as a dependency\n",
      ":: resolving dependencies :: org.apache.spark#spark-submit-parent-df2d08b9-3842-4fdf-a4e9-4ae6e757622d;1.0\n",
      "\tconfs: [default]\n",
      "\tfound org.postgresql#postgresql;42.6.0 in central\n",
      "\tfound org.checkerframework#checker-qual;3.31.0 in central\n",
      ":: resolution report :: resolve 250ms :: artifacts dl 22ms\n",
      "\t:: modules in use:\n",
      "\torg.checkerframework#checker-qual;3.31.0 from central in [default]\n",
      "\torg.postgresql#postgresql;42.6.0 from central in [default]\n",
      "\t---------------------------------------------------------------------\n",
      "\t|                  |            modules            ||   artifacts   |\n",
      "\t|       conf       | number| search|dwnlded|evicted|| number|dwnlded|\n",
      "\t---------------------------------------------------------------------\n",
      "\t|      default     |   2   |   0   |   0   |   0   ||   2   |   0   |\n",
      "\t---------------------------------------------------------------------\n",
      ":: retrieving :: org.apache.spark#spark-submit-parent-df2d08b9-3842-4fdf-a4e9-4ae6e757622d\n",
      "\tconfs: [default]\n",
      "\t0 artifacts copied, 2 already retrieved (0kB/20ms)\n",
      "25/02/24 18:27:44 WARN NativeCodeLoader: Unable to load native-hadoop library for your platform... using builtin-java classes where applicable\n",
      "Setting default log level to \"WARN\".\n",
      "To adjust logging level use sc.setLogLevel(newLevel). For SparkR, use setLogLevel(newLevel).\n"
     ]
    }
   ],
   "source": [
    "from pyspark.sql import SparkSession\n",
    "import warnings\n",
    "import google.generativeai as genai\n",
    "\n",
    "\n",
    "spark = (\n",
    "    SparkSession.builder.appName(\"FlightDelays\")\n",
    "    .master(\"local[*]\")\n",
    "    .config(\"spark.jars.packages\", \"org.postgresql:postgresql:42.6.0\")\n",
    "    .config(\"spark.driver.memory\", \"4g\")\n",
    "    .config(\"spark.executor.memory\", \"4g\")\n",
    "    .config(\"spark.executor.cores\", \"4\")\n",
    "    .config(\"spark.default.parallelism\", \"100\")\n",
    "    .config(\"spark.sql.shuffle.partitions\", \"100\")\n",
    "    .config(\"spark.memory.offHeap.enabled\", \"true\")\n",
    "    .config(\"spark.memory.offHeap.size\", \"4g\")\n",
    "    .getOrCreate()\n",
    ")\n",
    "\n",
    "spark.sparkContext.setLogLevel(\"WARN\")\n"
   ]
  },
  {
   "cell_type": "markdown",
   "metadata": {},
   "source": [
    "## Backend Database Connection"
   ]
  },
  {
   "cell_type": "code",
   "execution_count": 2,
   "metadata": {},
   "outputs": [],
   "source": [
    "import os\n",
    "\n",
    "DB_PASS = os.getenv(\"DB_PASS\")\n",
    "\n",
    "postgres_url = \"jdbc:postgresql://localhost:5432/text2sql\"\n",
    "postgres_properties = {\n",
    "    \"user\": \"postgres\",\n",
    "    \"password\": DB_PASS,\n",
    "    \"driver\": \"org.postgresql.Driver\",\n",
    "}"
   ]
  },
  {
   "cell_type": "code",
   "execution_count": 3,
   "metadata": {},
   "outputs": [
    {
     "name": "stderr",
     "output_type": "stream",
     "text": [
      "25/02/24 18:27:53 WARN SparkStringUtils: Truncated the string representation of a plan since it was too large. This behavior can be adjusted by setting 'spark.sql.debug.maxToStringFields'.\n"
     ]
    },
    {
     "name": "stdout",
     "output_type": "stream",
     "text": [
      "+----+-----+---+-----------+-------+-------------+-----------+--------------+-------------------+-------------------+--------------+---------------+--------+----------+--------------+------------+--------+--------+---------+-------+-----------------+------------+-------------+--------+---------+-------------------+----------------+--------------+-------------+-------------------+-------------+\n",
      "|YEAR|MONTH|DAY|DAY_OF_WEEK|AIRLINE|FLIGHT_NUMBER|TAIL_NUMBER|ORIGIN_AIRPORT|DESTINATION_AIRPORT|SCHEDULED_DEPARTURE|DEPARTURE_TIME|DEPARTURE_DELAY|TAXI_OUT|WHEELS_OFF|SCHEDULED_TIME|ELAPSED_TIME|AIR_TIME|DISTANCE|WHEELS_ON|TAXI_IN|SCHEDULED_ARRIVAL|ARRIVAL_TIME|ARRIVAL_DELAY|DIVERTED|CANCELLED|CANCELLATION_REASON|AIR_SYSTEM_DELAY|SECURITY_DELAY|AIRLINE_DELAY|LATE_AIRCRAFT_DELAY|WEATHER_DELAY|\n",
      "+----+-----+---+-----------+-------+-------------+-----------+--------------+-------------------+-------------------+--------------+---------------+--------+----------+--------------+------------+--------+--------+---------+-------+-----------------+------------+-------------+--------+---------+-------------------+----------------+--------------+-------------+-------------------+-------------+\n",
      "|2015|    1|  1|          4|     AS|           98|     N407AS|           ANC|                SEA|               0005|          2354|            -11|      21|      0015|           205|         194|     169|    1448|     0404|      4|             0430|        0408|          -22|       0|        0|               NULL|            NULL|          NULL|         NULL|               NULL|         NULL|\n",
      "|2015|    1|  1|          4|     AA|         2336|     N3KUAA|           LAX|                PBI|               0010|          0002|             -8|      12|      0014|           280|         279|     263|    2330|     0737|      4|             0750|        0741|           -9|       0|        0|               NULL|            NULL|          NULL|         NULL|               NULL|         NULL|\n",
      "|2015|    1|  1|          4|     US|          840|     N171US|           SFO|                CLT|               0020|          0018|             -2|      16|      0034|           286|         293|     266|    2296|     0800|     11|             0806|        0811|            5|       0|        0|               NULL|            NULL|          NULL|         NULL|               NULL|         NULL|\n",
      "|2015|    1|  1|          4|     AA|          258|     N3HYAA|           LAX|                MIA|               0020|          0015|             -5|      15|      0030|           285|         281|     258|    2342|     0748|      8|             0805|        0756|           -9|       0|        0|               NULL|            NULL|          NULL|         NULL|               NULL|         NULL|\n",
      "|2015|    1|  1|          4|     AS|          135|     N527AS|           SEA|                ANC|               0025|          0024|             -1|      11|      0035|           235|         215|     199|    1448|     0254|      5|             0320|        0259|          -21|       0|        0|               NULL|            NULL|          NULL|         NULL|               NULL|         NULL|\n",
      "|2015|    1|  1|          4|     DL|          806|     N3730B|           SFO|                MSP|               0025|          0020|             -5|      18|      0038|           217|         230|     206|    1589|     0604|      6|             0602|        0610|            8|       0|        0|               NULL|            NULL|          NULL|         NULL|               NULL|         NULL|\n",
      "|2015|    1|  1|          4|     NK|          612|     N635NK|           LAS|                MSP|               0025|          0019|             -6|      11|      0030|           181|         170|     154|    1299|     0504|      5|             0526|        0509|          -17|       0|        0|               NULL|            NULL|          NULL|         NULL|               NULL|         NULL|\n",
      "|2015|    1|  1|          4|     US|         2013|     N584UW|           LAX|                CLT|               0030|          0044|             14|      13|      0057|           273|         249|     228|    2125|     0745|      8|             0803|        0753|          -10|       0|        0|               NULL|            NULL|          NULL|         NULL|               NULL|         NULL|\n",
      "|2015|    1|  1|          4|     AA|         1112|     N3LAAA|           SFO|                DFW|               0030|          0019|            -11|      17|      0036|           195|         193|     173|    1464|     0529|      3|             0545|        0532|          -13|       0|        0|               NULL|            NULL|          NULL|         NULL|               NULL|         NULL|\n",
      "|2015|    1|  1|          4|     DL|         1173|     N826DN|           LAS|                ATL|               0030|          0033|              3|      12|      0045|           221|         203|     186|    1747|     0651|      5|             0711|        0656|          -15|       0|        0|               NULL|            NULL|          NULL|         NULL|               NULL|         NULL|\n",
      "|2015|    1|  1|          4|     DL|         2336|     N958DN|           DEN|                ATL|               0030|          0024|             -6|      12|      0036|           173|         149|     133|    1199|     0449|      4|             0523|        0453|          -30|       0|        0|               NULL|            NULL|          NULL|         NULL|               NULL|         NULL|\n",
      "|2015|    1|  1|          4|     AA|         1674|     N853AA|           LAS|                MIA|               0035|          0027|             -8|      21|      0048|           268|         266|     238|    2174|     0746|      7|             0803|        0753|          -10|       0|        0|               NULL|            NULL|          NULL|         NULL|               NULL|         NULL|\n",
      "|2015|    1|  1|          4|     DL|         1434|     N547US|           LAX|                MSP|               0035|          0035|              0|      18|      0053|           214|         210|     188|    1535|     0601|      4|             0609|        0605|           -4|       0|        0|               NULL|            NULL|          NULL|         NULL|               NULL|         NULL|\n",
      "|2015|    1|  1|          4|     DL|         2324|     N3751B|           SLC|                ATL|               0040|          0034|             -6|      18|      0052|           215|         199|     176|    1590|     0548|      5|             0615|        0553|          -22|       0|        0|               NULL|            NULL|          NULL|         NULL|               NULL|         NULL|\n",
      "|2015|    1|  1|          4|     DL|         2440|     N651DL|           SEA|                MSP|               0040|          0039|             -1|      28|      0107|           189|         198|     166|    1399|     0553|      4|             0549|        0557|            8|       0|        0|               NULL|            NULL|          NULL|         NULL|               NULL|         NULL|\n",
      "|2015|    1|  1|          4|     AS|          108|     N309AS|           ANC|                SEA|               0045|          0041|             -4|      17|      0058|           204|         194|     173|    1448|     0451|      4|             0509|        0455|          -14|       0|        0|               NULL|            NULL|          NULL|         NULL|               NULL|         NULL|\n",
      "|2015|    1|  1|          4|     DL|         1560|     N3743H|           ANC|                SEA|               0045|          0031|            -14|      25|      0056|           210|         200|     171|    1448|     0447|      4|             0515|        0451|          -24|       0|        0|               NULL|            NULL|          NULL|         NULL|               NULL|         NULL|\n",
      "|2015|    1|  1|          4|     UA|         1197|     N78448|           SFO|                IAH|               0048|          0042|             -6|      11|      0053|           218|         217|     199|    1635|     0612|      7|             0626|        0619|           -7|       0|        0|               NULL|            NULL|          NULL|         NULL|               NULL|         NULL|\n",
      "|2015|    1|  1|          4|     AS|          122|     N413AS|           ANC|                PDX|               0050|          0046|             -4|      11|      0057|           215|         201|     187|    1542|     0504|      3|             0525|        0507|          -18|       0|        0|               NULL|            NULL|          NULL|         NULL|               NULL|         NULL|\n",
      "|2015|    1|  1|          4|     DL|         1670|     N806DN|           PDX|                MSP|               0050|          0045|             -5|       9|      0054|           193|         186|     171|    1426|     0545|      6|             0603|        0551|          -12|       0|        0|               NULL|            NULL|          NULL|         NULL|               NULL|         NULL|\n",
      "+----+-----+---+-----------+-------+-------------+-----------+--------------+-------------------+-------------------+--------------+---------------+--------+----------+--------------+------------+--------+--------+---------+-------+-----------------+------------+-------------+--------+---------+-------------------+----------------+--------------+-------------+-------------------+-------------+\n",
      "only showing top 20 rows\n",
      "\n"
     ]
    }
   ],
   "source": [
    "df = spark.read.csv(\n",
    "    \"/home/suman/.cache/kagglehub/datasets/usdot/flight-delays/versions/1/flights.csv\",\n",
    "    header=True,\n",
    ")\n",
    "df.show()"
   ]
  },
  {
   "cell_type": "code",
   "execution_count": 4,
   "metadata": {},
   "outputs": [
    {
     "name": "stdout",
     "output_type": "stream",
     "text": [
      "Requirement already satisfied: kagglehub in /home/suman/.conda/envs/documentai/lib/python3.12/site-packages (0.3.9)\n",
      "Requirement already satisfied: packaging in /home/suman/.conda/envs/documentai/lib/python3.12/site-packages (from kagglehub) (24.2)\n",
      "Requirement already satisfied: pyyaml in /home/suman/.local/lib/python3.12/site-packages (from kagglehub) (6.0.2)\n",
      "Requirement already satisfied: requests in /home/suman/.conda/envs/documentai/lib/python3.12/site-packages (from kagglehub) (2.32.3)\n",
      "Requirement already satisfied: tqdm in /home/suman/.conda/envs/documentai/lib/python3.12/site-packages (from kagglehub) (4.66.4)\n",
      "Requirement already satisfied: charset-normalizer<4,>=2 in /home/suman/.conda/envs/documentai/lib/python3.12/site-packages (from requests->kagglehub) (3.3.2)\n",
      "Requirement already satisfied: idna<4,>=2.5 in /home/suman/.conda/envs/documentai/lib/python3.12/site-packages (from requests->kagglehub) (3.7)\n",
      "Requirement already satisfied: urllib3<3,>=1.21.1 in /home/suman/.conda/envs/documentai/lib/python3.12/site-packages (from requests->kagglehub) (2.2.1)\n",
      "Requirement already satisfied: certifi>=2017.4.17 in /home/suman/.conda/envs/documentai/lib/python3.12/site-packages (from requests->kagglehub) (2024.12.14)\n",
      "Note: you may need to restart the kernel to use updated packages.\n",
      "Path to dataset files: /home/suman/.cache/kagglehub/datasets/usdot/flight-delays/versions/1\n"
     ]
    }
   ],
   "source": [
    "%pip install kagglehub\n",
    "import kagglehub\n",
    "\n",
    "# Download latest version\n",
    "path = kagglehub.dataset_download(\"usdot/flight-delays\")\n",
    "\n",
    "print(\"Path to dataset files:\", path)\n"
   ]
  },
  {
   "cell_type": "code",
   "execution_count": 5,
   "metadata": {},
   "outputs": [
    {
     "name": "stderr",
     "output_type": "stream",
     "text": [
      "/tmp/ipykernel_205573/1665357876.py:16: DtypeWarning: Columns (7,8) have mixed types. Specify dtype option on import or set low_memory=False.\n",
      "  dataframes[df_name] = pd.read_csv(file_path)\n"
     ]
    }
   ],
   "source": [
    "import pandas as pd\n",
    "import os\n",
    "\n",
    "# Assuming the path variable from the previous cell contains the directory\n",
    "# where the CSV files are located\n",
    "csv_files = [f for f in os.listdir(path) if f.endswith(\".csv\")]\n",
    "\n",
    "# Create an empty dictionary to store the dataframes\n",
    "dataframes = {}\n",
    "\n",
    "# Loop through the files and load them into pandas dataframes\n",
    "for file in csv_files:\n",
    "    file_path = os.path.join(path, file)\n",
    "    # Use the file name (without extension) as the key in the dictionary\n",
    "    df_name = os.path.splitext(file)[0]\n",
    "    dataframes[df_name] = pd.read_csv(file_path)\n"
   ]
  },
  {
   "cell_type": "code",
   "execution_count": 6,
   "metadata": {},
   "outputs": [],
   "source": [
    "df_flights = dataframes.get(\"flights\")\n",
    "df_airlines = dataframes.get(\"airlines\")\n",
    "df_airports = dataframes.get(\"airports\")"
   ]
  },
  {
   "cell_type": "code",
   "execution_count": 7,
   "metadata": {},
   "outputs": [],
   "source": [
    "df_flights_sample = df_flights.sample(n=5000, random_state=42)\n",
    "df_flights_sample.to_csv(\"flights.csv\", index=False)\n",
    "df_airlines.to_csv(\"airlines.csv\", index=False)\n",
    "df_airports.to_csv(\"airports.csv\", index=False)\n"
   ]
  },
  {
   "cell_type": "code",
   "execution_count": 8,
   "metadata": {},
   "outputs": [
    {
     "name": "stdout",
     "output_type": "stream",
     "text": [
      "+----+-----+---+-----------+-------+-------------+-----------+--------------+-------------------+-------------------+--------------+---------------+--------+----------+--------------+------------+--------+--------+---------+-------+-----------------+------------+-------------+--------+---------+-------------------+----------------+--------------+-------------+-------------------+-------------+\n",
      "|YEAR|MONTH|DAY|DAY_OF_WEEK|AIRLINE|FLIGHT_NUMBER|TAIL_NUMBER|ORIGIN_AIRPORT|DESTINATION_AIRPORT|SCHEDULED_DEPARTURE|DEPARTURE_TIME|DEPARTURE_DELAY|TAXI_OUT|WHEELS_OFF|SCHEDULED_TIME|ELAPSED_TIME|AIR_TIME|DISTANCE|WHEELS_ON|TAXI_IN|SCHEDULED_ARRIVAL|ARRIVAL_TIME|ARRIVAL_DELAY|DIVERTED|CANCELLED|CANCELLATION_REASON|AIR_SYSTEM_DELAY|SECURITY_DELAY|AIRLINE_DELAY|LATE_AIRCRAFT_DELAY|WEATHER_DELAY|\n",
      "+----+-----+---+-----------+-------+-------------+-----------+--------------+-------------------+-------------------+--------------+---------------+--------+----------+--------------+------------+--------+--------+---------+-------+-----------------+------------+-------------+--------+---------+-------------------+----------------+--------------+-------------+-------------------+-------------+\n",
      "|2015|    4|  7|          2|     EV|         4900|     N759EV|           FWA|                DTW|               1340|        1335.0|           -5.0|    13.0|    1348.0|          56.0|        48.0|    30.0|     128|   1418.0|    5.0|             1436|      1423.0|        -13.0|       0|        0|               NULL|            NULL|          NULL|         NULL|               NULL|         NULL|\n",
      "|2015|    1| 24|          6|     AS|          611|     N413AS|           LAS|                SEA|               1910|        1858.0|          -12.0|    14.0|    1912.0|         155.0|       155.0|   131.0|     867|   2123.0|   10.0|             2145|      2133.0|        -12.0|       0|        0|               NULL|            NULL|          NULL|         NULL|               NULL|         NULL|\n",
      "|2015|    7|  8|          3|     WN|         1483|     N463WN|           OAK|                SEA|                630|         626.0|           -4.0|     8.0|     634.0|         110.0|       106.0|    92.0|     672|    806.0|    6.0|              820|       812.0|         -8.0|       0|        0|               NULL|            NULL|          NULL|         NULL|               NULL|         NULL|\n",
      "|2015|    5| 26|          2|     WN|          193|     N7745A|           STL|                DAL|                810|        1043.0|          153.0|     6.0|    1049.0|         100.0|        99.0|    85.0|     546|   1214.0|    8.0|              950|      1222.0|        152.0|       0|        0|               NULL|             0.0|           0.0|          0.0|              152.0|          0.0|\n",
      "|2015|    7|  6|          1|     UA|          253|     N213UA|           IAH|                HNL|               1000|        1008.0|            8.0|    16.0|    1024.0|         498.0|       488.0|   461.0|    3904|   1305.0|   11.0|             1318|      1316.0|         -2.0|       0|        0|               NULL|            NULL|          NULL|         NULL|               NULL|         NULL|\n",
      "|2015|    9| 14|          1|     DL|         1381|     N977DL|           HSV|                ATL|               1800|        1816.0|           16.0|    13.0|    1829.0|          70.0|        49.0|    28.0|     151|   1957.0|    8.0|             2010|      2005.0|         -5.0|       0|        0|               NULL|            NULL|          NULL|         NULL|               NULL|         NULL|\n",
      "|2015|    9| 13|          7|     UA|         1459|     N26210|           IAH|                TPA|               1357|        1358.0|            1.0|    13.0|    1411.0|         137.0|       120.0|   100.0|     787|   1651.0|    7.0|             1714|      1658.0|        -16.0|       0|        0|               NULL|            NULL|          NULL|         NULL|               NULL|         NULL|\n",
      "|2015|    6| 22|          1|     AS|          656|     N523AS|           SEA|                PHX|               1120|        1116.0|           -4.0|    11.0|    1127.0|         171.0|       163.0|   145.0|    1107|   1352.0|    7.0|             1411|      1359.0|        -12.0|       0|        0|               NULL|            NULL|          NULL|         NULL|               NULL|         NULL|\n",
      "|2015|   12| 15|          2|     AA|            1|     N794AA|           JFK|                LAX|                900|         852.0|           -8.0|    34.0|     926.0|         385.0|       381.0|   341.0|    2475|   1207.0|    6.0|             1225|      1213.0|        -12.0|       0|        0|               NULL|            NULL|          NULL|         NULL|               NULL|         NULL|\n",
      "|2015|   10| 26|          1|     F9|          711|     N210FR|         14635|              11292|                725|         734.0|            9.0|     9.0|     743.0|         249.0|       222.0|   204.0|    1607|    907.0|    9.0|              934|       916.0|        -18.0|       0|        0|               NULL|            NULL|          NULL|         NULL|               NULL|         NULL|\n",
      "|2015|    1| 16|          5|     WN|         2513|     N8640D|           MHT|                BWI|                545|         541.0|           -4.0|    13.0|     554.0|         115.0|        92.0|    72.0|     377|    706.0|    7.0|              740|       713.0|        -27.0|       0|        0|               NULL|            NULL|          NULL|         NULL|               NULL|         NULL|\n",
      "|2015|    7| 20|          1|     WN|         2258|     N8618N|           MCO|                SJU|               1500|        1459.0|           -1.0|     8.0|    1507.0|         175.0|       157.0|   145.0|    1189|   1732.0|    4.0|             1755|      1736.0|        -19.0|       0|        0|               NULL|            NULL|          NULL|         NULL|               NULL|         NULL|\n",
      "|2015|    2|  5|          4|     WN|          335|     N7752B|           LAS|                SMF|               1200|        1159.0|           -1.0|    17.0|    1216.0|          95.0|        87.0|    64.0|     397|   1320.0|    6.0|             1335|      1326.0|         -9.0|       0|        0|               NULL|            NULL|          NULL|         NULL|               NULL|         NULL|\n",
      "|2015|    9| 24|          4|     WN|          156|     N736SA|           TPA|                BNA|               1255|        1252.0|           -3.0|    21.0|    1313.0|         105.0|       104.0|    78.0|     612|   1331.0|    5.0|             1340|      1336.0|         -4.0|       0|        0|               NULL|            NULL|          NULL|         NULL|               NULL|         NULL|\n",
      "|2015|    1| 30|          5|     US|         1982|     N554UW|           DFW|                CLT|                505|         458.0|           -7.0|    15.0|     513.0|         143.0|       146.0|   116.0|     936|    809.0|   15.0|              828|       824.0|         -4.0|       0|        0|               NULL|            NULL|          NULL|         NULL|               NULL|         NULL|\n",
      "|2015|    3| 25|          3|     EV|         2574|     N673AE|           DFW|                CAE|               2020|        2019.0|           -1.0|    18.0|    2037.0|         131.0|       129.0|   107.0|     922|   2324.0|    4.0|             2331|      2328.0|         -3.0|       0|        0|               NULL|            NULL|          NULL|         NULL|               NULL|         NULL|\n",
      "|2015|    2| 18|          3|     DL|          809|     N325NB|           BOS|                MSP|                605|         603.0|           -2.0|    31.0|     634.0|         205.0|       196.0|   161.0|    1124|    815.0|    4.0|              830|       819.0|        -11.0|       0|        0|               NULL|            NULL|          NULL|         NULL|               NULL|         NULL|\n",
      "|2015|    1| 22|          4|     AA|         1241|     N855AA|           MCO|                DFW|                900|         907.0|            7.0|    14.0|     921.0|         183.0|       174.0|   148.0|     985|   1049.0|   12.0|             1103|      1101.0|         -2.0|       0|        0|               NULL|            NULL|          NULL|         NULL|               NULL|         NULL|\n",
      "|2015|    2|  6|          5|     AA|         2327|     N475AA|           MKE|                DFW|               1500|        1455.0|           -5.0|    10.0|    1505.0|         175.0|       139.0|   118.0|     853|   1703.0|   11.0|             1755|      1714.0|        -41.0|       0|        0|               NULL|            NULL|          NULL|         NULL|               NULL|         NULL|\n",
      "|2015|    6|  9|          2|     US|          429|     N923US|           PHL|                SAN|               1555|        1548.0|           -7.0|    10.0|    1558.0|         340.0|       315.0|   302.0|    2370|   1800.0|    3.0|             1835|      1803.0|        -32.0|       0|        0|               NULL|            NULL|          NULL|         NULL|               NULL|         NULL|\n",
      "+----+-----+---+-----------+-------+-------------+-----------+--------------+-------------------+-------------------+--------------+---------------+--------+----------+--------------+------------+--------+--------+---------+-------+-----------------+------------+-------------+--------+---------+-------------------+----------------+--------------+-------------+-------------------+-------------+\n",
      "only showing top 20 rows\n",
      "\n"
     ]
    }
   ],
   "source": [
    "df = spark.read.csv(\"flights.csv\", header=True)\n",
    "df.show()"
   ]
  }
 ],
 "metadata": {
  "kernelspec": {
   "display_name": "documentai",
   "language": "python",
   "name": "python3"
  },
  "language_info": {
   "codemirror_mode": {
    "name": "ipython",
    "version": 3
   },
   "file_extension": ".py",
   "mimetype": "text/x-python",
   "name": "python",
   "nbconvert_exporter": "python",
   "pygments_lexer": "ipython3",
   "version": "3.12.3"
  }
 },
 "nbformat": 4,
 "nbformat_minor": 2
}
