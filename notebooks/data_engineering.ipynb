{
 "cells": [
  {
   "cell_type": "markdown",
   "metadata": {},
   "source": [
    "#### Spark Session"
   ]
  },
  {
   "cell_type": "code",
   "execution_count": null,
   "metadata": {},
   "outputs": [],
   "source": [
    "from pyspark.sql import SparkSession\n",
    "import warnings\n",
    "\n",
    "\n",
    "spark = (\n",
    "    SparkSession.builder.appName(\"FlightDelays\")\n",
    "    .master(\"local[*]\")\n",
    "    .config(\"spark.jars.packages\", \"org.postgresql:postgresql:42.6.0\")\n",
    "    .config(\"spark.driver.memory\", \"4g\")\n",
    "    .config(\"spark.executor.memory\", \"4g\")\n",
    "    .config(\"spark.executor.cores\", \"4\")\n",
    "    .config(\"spark.default.parallelism\", \"100\")\n",
    "    .config(\"spark.sql.shuffle.partitions\", \"100\")\n",
    "    .config(\"spark.memory.offHeap.enabled\", \"true\")\n",
    "    .config(\"spark.memory.offHeap.size\", \"4g\")\n",
    "    .getOrCreate()\n",
    ")\n",
    "\n",
    "spark.sparkContext.setLogLevel(\"WARN\")\n"
   ]
  },
  {
   "cell_type": "code",
   "execution_count": null,
   "metadata": {},
   "outputs": [],
   "source": [
    "import os\n",
    "\n",
    "DB_PASS = os.getenv(\"DB_PASS\")\n",
    "\n",
    "postgres_url = \"jdbc:postgresql://localhost:5432/text2sql\"\n",
    "postgres_properties = {\n",
    "    \"user\": \"postgres\",\n",
    "    \"password\": DB_PASS,\n",
    "    \"driver\": \"org.postgresql.Driver\",\n",
    "}"
   ]
  },
  {
   "cell_type": "code",
   "execution_count": null,
   "metadata": {},
   "outputs": [],
   "source": [
    "df = spark.read.csv(\n",
    "    \"/home/suman/.cache/kagglehub/datasets/usdot/flight-delays/versions/1/flights.csv\",\n",
    "    header=True,\n",
    ")\n",
    "df.show()"
   ]
  },
  {
   "cell_type": "code",
   "execution_count": 1,
   "metadata": {},
   "outputs": [],
   "source": [
    "import google.generativeai as genai"
   ]
  },
  {
   "cell_type": "code",
   "execution_count": 4,
   "metadata": {},
   "outputs": [],
   "source": [
    "model = genai.GenerativeModel(\n",
    "    \"gemini-2.0-flash\",\n",
    "    system_instruction=\"You are a cat. Your name is Neko.\",\n",
    "    generation_config={\"response_mime_type\": \"application/json\"}\n",
    ")\n"
   ]
  },
  {
   "cell_type": "code",
   "execution_count": 7,
   "metadata": {},
   "outputs": [],
   "source": [
    "import typing\n",
    "class Recipe(typing.TypedDict):\n",
    "    recipe_name: str\n",
    "    recipe_description: str\n",
    "    recipe_ingredients: list[str]\n"
   ]
  },
  {
   "cell_type": "code",
   "execution_count": 8,
   "metadata": {},
   "outputs": [],
   "source": [
    "model = genai.GenerativeModel(model_name=\"gemini-2.0-flash\")\n",
    "\n",
    "result = model.generate_content(\n",
    "    \"List a few imaginative cookie recipes along with a one-sentence description as if you were a gourmet restaurant and their main ingredients\",\n",
    "    generation_config=genai.GenerationConfig(\n",
    "        response_mime_type=\"application/json\", response_schema=list[Recipe]\n",
    "    ),\n",
    "    request_options={\"timeout\": 600},\n",
    ")"
   ]
  },
  {
   "cell_type": "code",
   "execution_count": 10,
   "metadata": {},
   "outputs": [],
   "source": [
    "import json"
   ]
  },
  {
   "cell_type": "code",
   "execution_count": 12,
   "metadata": {},
   "outputs": [
    {
     "name": "stdout",
     "output_type": "stream",
     "text": [
      "[\n",
      "    {\n",
      "        \"recipe_name\": \"Celestial Cranberry Comet Cookies\"\n",
      "    },\n",
      "    {\n",
      "        \"recipe_description\": \"Tart cranberries dance with the warmth of white chocolate against a backdrop of spiced ginger, reminiscent of a journey through the stars.\",\n",
      "        \"recipe_ingredients\": [\n",
      "            \"Dried cranberries\",\n",
      "            \"White chocolate\",\n",
      "            \"Ginger\",\n",
      "            \"Cinnamon\"\n",
      "        ]\n",
      "    },\n",
      "    {\n",
      "        \"recipe_name\": \"Midnight Velvet Moon Cookies\"\n",
      "    },\n",
      "    {\n",
      "        \"recipe_description\": \"A dark chocolate dream infused with the subtle allure of lavender and a hint of sea salt, evoking the mystery of a moonlit garden.\",\n",
      "        \"recipe_ingredients\": [\n",
      "            \"Dark chocolate\",\n",
      "            \"Lavender\",\n",
      "            \"Sea salt\",\n",
      "            \"Cocoa powder\"\n",
      "        ]\n",
      "    },\n",
      "    {\n",
      "        \"recipe_name\": \"Enchanted Forest Fig & Hazelnut Biscotti\"\n",
      "    },\n",
      "    {\n",
      "        \"recipe_description\": \"Earthy figs and toasted hazelnuts intertwine in a twice-baked delight, whispering tales of ancient woodlands.\",\n",
      "        \"recipe_ingredients\": [\n",
      "            \"Dried figs\",\n",
      "            \"Hazelnuts\",\n",
      "            \"Anise\",\n",
      "            \"Almonds\"\n",
      "        ]\n",
      "    }\n",
      "]\n"
     ]
    }
   ],
   "source": [
    "print(json.dumps(json.loads(result.text), indent=4))"
   ]
  },
  {
   "cell_type": "code",
   "execution_count": null,
   "metadata": {},
   "outputs": [],
   "source": [
    "# # Read data from PostgreSQL using Spark\n",
    "# flights_from_db = spark.read.jdbc(\n",
    "#     url=postgres_url, table=\"flights\", properties=postgres_properties\n",
    "# )"
   ]
  }
 ],
 "metadata": {
  "kernelspec": {
   "display_name": "documentai",
   "language": "python",
   "name": "python3"
  },
  "language_info": {
   "codemirror_mode": {
    "name": "ipython",
    "version": 3
   },
   "file_extension": ".py",
   "mimetype": "text/x-python",
   "name": "python",
   "nbconvert_exporter": "python",
   "pygments_lexer": "ipython3",
   "version": "3.12.3"
  }
 },
 "nbformat": 4,
 "nbformat_minor": 2
}
