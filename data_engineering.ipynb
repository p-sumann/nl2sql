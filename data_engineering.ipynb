{
 "cells": [
  {
   "cell_type": "markdown",
   "metadata": {},
   "source": [
    "#### Spark Session"
   ]
  },
  {
   "cell_type": "code",
   "execution_count": null,
   "metadata": {},
   "outputs": [],
   "source": [
    "from pyspark.sql import SparkSession\n",
    "\n",
    "spark = (\n",
    "    SparkSession.builder.appName(\"FlightDelays\")\n",
    "    .master(\"local[*]\")\n",
    "    .config(\"spark.jars.packages\", \"org.postgresql:postgresql:42.6.0\")\n",
    "    .config(\"spark.driver.memory\", \"4g\")\n",
    "    .config(\"spark.executor.memory\", \"4g\")\n",
    "    .config(\"spark.executor.cores\", \"4\")\n",
    "    .config(\"spark.default.parallelism\", \"100\")\n",
    "    .config(\"spark.sql.shuffle.partitions\", \"100\")\n",
    "    .config(\"spark.memory.offHeap.enabled\", \"true\")\n",
    "    .config(\"spark.memory.offHeap.size\", \"4g\")\n",
    "    .getOrCreate()\n",
    ")"
   ]
  },
  {
   "cell_type": "code",
   "execution_count": null,
   "metadata": {},
   "outputs": [],
   "source": [
    "# # Join with airports for origin airport details\n",
    "# from pyspark.sql.functions import col\n",
    "\n",
    "# flights_origins = flights_df.join(\n",
    "#     airports_df.alias(\"origin\"),\n",
    "#     flights_df.ORIGIN_AIRPORT == col(\"origin.IATA_CODE\"),\n",
    "#     \"left\",\n",
    "# ).select(flights_df[\"*\"], col(\"origin.AIRPORT\").alias(\"ORIGIN_AIRPORT_NAME\"))\n",
    "\n",
    "# # Join with airports for destination airport details\n",
    "# flights_airports_df = flights_origins.join(\n",
    "#     airports_df.alias(\"dest\"),\n",
    "#     flights_origins.DESTINATION_AIRPORT == col(\"dest.IATA_CODE\"),\n",
    "#     \"left\",\n",
    "# ).select(flights_origins[\"*\"], col(\"dest.AIRPORT\").alias(\"DESTINATION_AIRPORT_NAME\"))"
   ]
  },
  {
   "cell_type": "code",
   "execution_count": null,
   "metadata": {},
   "outputs": [],
   "source": [
    "# # Join with carriers to get airline names\n",
    "# final_flights_df = flights_airports_df.join(\n",
    "#     carriers_df, flights_airports_df.AIRLINE == carriers_df.IATA_CODE, \"left\"\n",
    "# ).select(flights_airports_df[\"*\"], carriers_df.AIRLINE.alias(\"AIRLINE_NAME\"))"
   ]
  },
  {
   "cell_type": "code",
   "execution_count": null,
   "metadata": {},
   "outputs": [],
   "source": [
    "import os\n",
    "\n",
    "DB_PASS = os.getenv(\"DB_PASS\")\n",
    "\n",
    "postgres_url = \"jdbc:postgresql://localhost:5432/text2sql\"\n",
    "postgres_properties = {\n",
    "    \"user\": \"postgres\",\n",
    "    \"password\": DB_PASS,\n",
    "    \"driver\": \"org.postgresql.Driver\",\n",
    "}\n"
   ]
  },
  {
   "cell_type": "code",
   "execution_count": null,
   "metadata": {},
   "outputs": [],
   "source": [
    "from pyspark.sql import SparkSession\n",
    "\n",
    "spark = (\n",
    "    SparkSession.builder.appName(\"FlightDelays\")\n",
    "    .master(\"local[*]\")\n",
    "    .config(\"spark.jars.packages\", \"org.postgresql:postgresql:42.6.0\")\n",
    "    .config(\"spark.driver.memory\", \"8g\")\n",
    "    .config(\"spark.executor.memory\", \"8g\")\n",
    "    .config(\"spark.executor.cores\", \"8\")\n",
    "    .config(\"spark.default.parallelism\", \"100\")\n",
    "    .config(\"spark.sql.shuffle.partitions\", \"100\")\n",
    "    .config(\"spark.memory.offHeap.enabled\", \"true\")\n",
    "    .config(\"spark.memory.offHeap.size\", \"4g\")\n",
    "    .getOrCreate()\n",
    ")\n"
   ]
  },
  {
   "cell_type": "code",
   "execution_count": null,
   "metadata": {},
   "outputs": [],
   "source": [
    "df = spark.read.csv(\n",
    "    \"/home/suman/.cache/kagglehub/datasets/usdot/flight-delays/versions/1/flights.csv\",\n",
    "    header=True,\n",
    ")\n",
    "df.show()"
   ]
  },
  {
   "cell_type": "code",
   "execution_count": null,
   "metadata": {},
   "outputs": [],
   "source": [
    "# Read data from PostgreSQL using Spark\n",
    "flights_from_db = spark.read.jdbc(\n",
    "    url=postgres_url, table=\"flights\", properties=postgres_properties\n",
    ")"
   ]
  },
  {
   "cell_type": "code",
   "execution_count": null,
   "metadata": {},
   "outputs": [],
   "source": [
    "df.write.jdbc(\n",
    "    url=postgres_url,\n",
    "    table=\"flights\",\n",
    "    mode=\"overwrite\",\n",
    "    properties={**postgres_properties, \"copy\": \"true\"},\n",
    ")"
   ]
  },
  {
   "cell_type": "code",
   "execution_count": null,
   "metadata": {},
   "outputs": [],
   "source": [
    "# df = df.repartition(10)  # Repartition into 5 partitions for parallel processing\n",
    "\n",
    "# df.write.jdbc(\n",
    "#     url=postgres_url,\n",
    "#     table=\"flights\",\n",
    "#     mode=\"overwrite\",\n",
    "#     properties={**postgres_properties, \"batchsize\": \"200000\", \"copy\": \"true\"},\n",
    "# )\n"
   ]
  }
 ],
 "metadata": {
  "kernelspec": {
   "display_name": "documentai",
   "language": "python",
   "name": "python3"
  },
  "language_info": {
   "codemirror_mode": {
    "name": "ipython",
    "version": 3
   },
   "file_extension": ".py",
   "mimetype": "text/x-python",
   "name": "python",
   "nbconvert_exporter": "python",
   "pygments_lexer": "ipython3",
   "version": "3.12.3"
  }
 },
 "nbformat": 4,
 "nbformat_minor": 2
}
